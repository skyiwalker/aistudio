{
 "cells": [
  {
   "cell_type": "markdown",
   "metadata": {},
   "source": [
    "# PyTorch Estimator to run a script to train"
   ]
  },
  {
   "cell_type": "code",
   "execution_count": null,
   "metadata": {},
   "outputs": [],
   "source": [
    "from aistudio.pytorch import PyTorch\n",
    "\n",
    "script_params = {\n",
    "    '--batch-size': 64,\n",
    "    '--test-batch-size': 128,\n",
    "    '--lr': 0.5,\n",
    "    '--epochs': 10\n",
    "    #,'--nprocs': 4\n",
    "}\n",
    "estimator = PyTorch(script=\"train.py\",script_params=script_params)"
   ]
  },
  {
   "cell_type": "code",
   "execution_count": null,
   "metadata": {},
   "outputs": [],
   "source": [
    "estimator.fit()"
   ]
  },
  {
   "cell_type": "markdown",
   "metadata": {},
   "source": [
    "# Estimator with Model File(.onnx)"
   ]
  },
  {
   "cell_type": "markdown",
   "metadata": {},
   "source": [
    "estimator needs test-batch-size, test dataloader and loss function"
   ]
  },
  {
   "cell_type": "code",
   "execution_count": 24,
   "metadata": {},
   "outputs": [
    {
     "name": "stdout",
     "output_type": "stream",
     "text": [
      "ONNX Model was Loaded.\n",
      "mnist_net .onnx\n",
      "Validation by ONNX Model.\n",
      "Loss: 0.049752\tAccuracy: 98.53\n"
     ]
    }
   ],
   "source": [
    "from aistudio.estimator import Estimator\n",
    "from torch.utils.data import DataLoader\n",
    "from torchvision import datasets, transforms\n",
    "import torch\n",
    "\n",
    "script_params = {\n",
    "    '--test-batch-size': 128\n",
    "}\n",
    "\n",
    "from torchvision import datasets, transforms\n",
    "download_root = 'test-data'\n",
    "mnist_transform=transforms.Compose([\n",
    "                           transforms.ToTensor()\n",
    "                           ,transforms.Normalize((0.1307,), (0.3081,))\n",
    "                           ])\n",
    "test_dataset  = datasets.MNIST(download_root, transform=mnist_transform, train=False, download=True)\n",
    "# Data Preperation\n",
    "input_data = test_dataset.data\n",
    "input_data = torch.div(input_data,255.)\n",
    "input_data = torch.add(input_data,-0.1307)\n",
    "input_data = torch.div(input_data,0.3081)\n",
    "input_data = input_data.unsqueeze(1)\n",
    "input_labels = test_dataset.targets\n",
    "\n",
    "estimator = Estimator(use_model=True,model_path=\"mnist_net.onnx\",script_params=script_params)\n",
    "estimator.validate(input_data, input_labels, loss=\"nll_loss\")"
   ]
  },
  {
   "cell_type": "markdown",
   "metadata": {},
   "source": [
    "# Estimator with Model File(.pth)\n",
    "\n",
    "Estimator with PyTorch Model File"
   ]
  },
  {
   "cell_type": "code",
   "execution_count": null,
   "metadata": {},
   "outputs": [],
   "source": [
    "from aistudio.estimator import Estimator\n",
    "from torch.utils.data import DataLoader\n",
    "from torchvision import datasets, transforms\n",
    "import numpy as np\n",
    "\n",
    "# define script parameters\n",
    "script_params = {\n",
    "    '--test-batch-size': 128\n",
    "}\n",
    "# Data Preparation and Pre-Processing\n",
    "download_root = 'test-data'\n",
    "mnist_transform=transforms.Compose([\n",
    "                           transforms.ToTensor()\n",
    "                           ,transforms.Normalize((0.1307,), (0.3081,))\n",
    "                           ])\n",
    "test_dataset  = datasets.MNIST(download_root, transform=mnist_transform, train=False, download=True)"
   ]
  },
  {
   "cell_type": "markdown",
   "metadata": {},
   "source": [
    "### Data Pre-processing for testset"
   ]
  },
  {
   "cell_type": "code",
   "execution_count": null,
   "metadata": {},
   "outputs": [],
   "source": [
    "import torch\n",
    "\n",
    "input_data = test_dataset.data\n",
    "input_data = torch.div(input_data,255.)\n",
    "input_data = torch.add(input_data,-0.1307)\n",
    "input_data = torch.div(input_data,0.3081)\n",
    "input_data = input_data.unsqueeze(1)\n",
    "input_labels = test_dataset.targets"
   ]
  },
  {
   "cell_type": "markdown",
   "metadata": {},
   "source": [
    "### Create Network"
   ]
  },
  {
   "cell_type": "code",
   "execution_count": null,
   "metadata": {},
   "outputs": [],
   "source": [
    "import torch.nn as nn\n",
    "import torch.nn.functional as F\n",
    "\n",
    "\n",
    "class Net(nn.Module):\n",
    "    def __init__(self):\n",
    "        super(Net, self).__init__()\n",
    "        self.conv1 = nn.Conv2d(1, 10, kernel_size=5)\n",
    "        self.conv2 = nn.Conv2d(10, 20, kernel_size=5)\n",
    "        self.conv2_drop = nn.Dropout2d()\n",
    "        self.fc1 = nn.Linear(320, 50)\n",
    "        self.fc2 = nn.Linear(50, 10)\n",
    "\n",
    "    def forward(self, x):\n",
    "        x = F.relu(F.max_pool2d(self.conv1(x), 2))\n",
    "        x = F.relu(F.max_pool2d(self.conv2_drop(self.conv2(x)), 2))\n",
    "        x = x.view(-1, 320)\n",
    "        x = F.relu(self.fc1(x))\n",
    "        x = F.dropout(x, training=self.training)\n",
    "        x = self.fc2(x)\n",
    "        return F.log_softmax(x,dim=1)"
   ]
  },
  {
   "cell_type": "markdown",
   "metadata": {},
   "source": [
    "## Validate(Test) Model"
   ]
  },
  {
   "cell_type": "code",
   "execution_count": null,
   "metadata": {},
   "outputs": [],
   "source": [
    "net = Net()\n",
    "estimator = Estimator(use_model=True,model_path=\"mnist_net.pth\",network=net,script_params=script_params)\n",
    "estimator.validate(input_data, input_labels, loss=\"nll_loss\")"
   ]
  },
  {
   "cell_type": "markdown",
   "metadata": {},
   "source": [
    "## Fit Model"
   ]
  },
  {
   "cell_type": "markdown",
   "metadata": {},
   "source": [
    "#### Data Preparation and Preprocessing for training set"
   ]
  },
  {
   "cell_type": "code",
   "execution_count": null,
   "metadata": {},
   "outputs": [],
   "source": [
    "download_root = 'train-data'\n",
    "mnist_transform=transforms.Compose([\n",
    "                           transforms.ToTensor()\n",
    "                           ,transforms.Normalize((0.1307,), (0.3081,))\n",
    "                           ])\n",
    "train_dataset  = datasets.MNIST(download_root, transform=mnist_transform, train=True, download=True)\n",
    "input_data = train_dataset.data\n",
    "input_data = torch.div(input_data,255.)\n",
    "input_data = torch.add(input_data,-0.1307)\n",
    "input_data = torch.div(input_data,0.3081)\n",
    "input_data = input_data.unsqueeze(1)\n",
    "input_labels = train_dataset.targets"
   ]
  },
  {
   "cell_type": "markdown",
   "metadata": {},
   "source": [
    "### to use only model file"
   ]
  },
  {
   "cell_type": "code",
   "execution_count": null,
   "metadata": {},
   "outputs": [],
   "source": [
    "script_params = {\n",
    "    '--epochs': 5,\n",
    "    '--batch-size': 64,\n",
    "    '--test-batch-size': 128,\n",
    "    '--lr': 0.05\n",
    "}\n",
    "\n",
    "net = Net()\n",
    "estimator = Estimator(use_model=True,model_path=\"mnist_init_net.pt\",network=net,script_params=script_params,debug=True)\n",
    "estimator.fit(input_data, input_labels, loss=\"nll_loss\", opt=\"SGD\")"
   ]
  },
  {
   "cell_type": "markdown",
   "metadata": {},
   "source": [
    "### to use only model file with checkpoint"
   ]
  },
  {
   "cell_type": "code",
   "execution_count": null,
   "metadata": {},
   "outputs": [],
   "source": [
    "from torch import optim\n",
    "\n",
    "script_params = {\n",
    "    '--epochs': 5,\n",
    "    '--batch-size': 64,\n",
    "    '--test-batch-size': 128,\n",
    "    '--lr': 0.05\n",
    "}\n",
    "\n",
    "net = Net()\n",
    "optimizer = optim.SGD(net.parameters(), lr=0.05)\n",
    "estimator = Estimator(use_model=True,model_path=\"mnist_init_net_checkpoint.pt\",network=net,use_optimizer=True,optimizer=optimizer,script_params=script_params,debug=True)\n",
    "estimator.fit(input_data, input_labels, loss=\"nll_loss\", opt=\"SGD\")"
   ]
  },
  {
   "cell_type": "markdown",
   "metadata": {},
   "source": [
    "### to use only model file with checkpoint and cuda"
   ]
  },
  {
   "cell_type": "code",
   "execution_count": null,
   "metadata": {},
   "outputs": [],
   "source": [
    "from torch import optim\n",
    "\n",
    "script_params = {\n",
    "    '--epochs': 5,\n",
    "    '--batch-size': 64,\n",
    "    '--test-batch-size': 128,\n",
    "    '--lr': 0.05\n",
    "}\n",
    "\n",
    "net = Net()\n",
    "optimizer = optim.SGD(net.parameters(), lr=0.05)\n",
    "estimator = Estimator(use_cuda=True,use_model=True,model_path=\"mnist_init_net_checkpoint.pt\",network=net,use_optimizer=True,optimizer=optimizer,script_params=script_params,debug=True)\n",
    "estimator.fit(input_data, input_labels, loss=\"nll_loss\", opt=\"SGD\")"
   ]
  },
  {
   "cell_type": "code",
   "execution_count": null,
   "metadata": {},
   "outputs": [],
   "source": []
  },
  {
   "cell_type": "markdown",
   "metadata": {},
   "source": [
    "# Do Make Horovod Running Test Python File"
   ]
  },
  {
   "cell_type": "code",
   "execution_count": null,
   "metadata": {},
   "outputs": [],
   "source": [
    "%%writefile './test_estimator_hvd.py'\n",
    "\n",
    "from aistudio.estimator import Estimator\n",
    "from torch.utils.data import DataLoader\n",
    "from torchvision import datasets, transforms\n",
    "import numpy as np\n",
    "import torch\n",
    "import torch.nn as nn\n",
    "import torch.nn.functional as F\n",
    "from torch import optim\n",
    "# import horovod.torch as hvd\n",
    "\n",
    "class Net(nn.Module):\n",
    "    def __init__(self):\n",
    "        super(Net, self).__init__()\n",
    "        self.conv1 = nn.Conv2d(1, 10, kernel_size=5)\n",
    "        self.conv2 = nn.Conv2d(10, 20, kernel_size=5)\n",
    "        self.conv2_drop = nn.Dropout2d()\n",
    "        self.fc1 = nn.Linear(320, 50)\n",
    "        self.fc2 = nn.Linear(50, 10)\n",
    "\n",
    "    def forward(self, x):\n",
    "        x = F.relu(F.max_pool2d(self.conv1(x), 2))\n",
    "        x = F.relu(F.max_pool2d(self.conv2_drop(self.conv2(x)), 2))\n",
    "        x = x.view(-1, 320)\n",
    "        x = F.relu(self.fc1(x))\n",
    "        x = F.dropout(x, training=self.training)\n",
    "        x = self.fc2(x)\n",
    "        return F.log_softmax(x,dim=1)\n",
    "\n",
    "if __name__ == '__main__':\n",
    "    # Data Preparation and Pre-Processing\n",
    "    download_root = 'train-data'\n",
    "    mnist_transform=transforms.Compose([\n",
    "                               transforms.ToTensor()\n",
    "                               ,transforms.Normalize((0.1307,), (0.3081,))\n",
    "                               ])\n",
    "    train_dataset  = datasets.MNIST(download_root, transform=mnist_transform, train=True, download=True)\n",
    "    input_data = train_dataset.data\n",
    "    input_data = torch.div(input_data,255.)\n",
    "    input_data = torch.add(input_data,-0.1307)\n",
    "    input_data = torch.div(input_data,0.3081)\n",
    "    input_data = input_data.unsqueeze(1)\n",
    "    input_labels = train_dataset.targets\n",
    "    # define script parameters\n",
    "    script_params = {\n",
    "        '--epochs': 5,\n",
    "        '--batch-size': 64,\n",
    "        '--test-batch-size': 128,\n",
    "        '--lr': 0.05\n",
    "    }\n",
    "    net = Net()\n",
    "    optimizer = optim.SGD(net.parameters(), lr=0.05)\n",
    "    estimator = Estimator(use_cuda=True,use_model=True,model_path=\"mnist_init_net.pt\",network=net,script_params=script_params)\n",
    "    estimator.fit(input_data, input_labels, loss=\"nll_loss\", opt=\"SGD\")"
   ]
  },
  {
   "cell_type": "markdown",
   "metadata": {},
   "source": [
    "# Simple Estimator Implementation"
   ]
  },
  {
   "cell_type": "code",
   "execution_count": 1,
   "metadata": {},
   "outputs": [
    {
     "name": "stdout",
     "output_type": "stream",
     "text": [
      "['--epochs', '1', '--batch-size', '64', '--test-batch-size', '128', '--lr', '0.05']\n",
      "[1,0]<stdout>:Train Epoch: 1 [0/60000 (0%)]\tLoss: 2.319920\n",
      "[1,0]<stdout>:Train Epoch: 1 [640/60000 (1%)]\tLoss: 2.322078\n",
      "[1,0]<stdout>:Train Epoch: 1 [1280/60000 (2%)]\tLoss: 2.313202\n",
      "[1,0]<stdout>:Train Epoch: 1 [1920/60000 (3%)]\tLoss: 2.290503\n",
      "[1,0]<stdout>:Train Epoch: 1 [2560/60000 (4%)]\tLoss: 2.284245\n",
      "[1,0]<stdout>:Train Epoch: 1 [3200/60000 (5%)]\tLoss: 2.306247\n",
      "[1,0]<stdout>:Train Epoch: 1 [3840/60000 (6%)]\tLoss: 2.284189\n",
      "[1,0]<stdout>:Train Epoch: 1 [4480/60000 (7%)]\tLoss: 2.256639\n",
      "[1,0]<stdout>:Train Epoch: 1 [5120/60000 (9%)]\tLoss: 2.296750\n",
      "[1,0]<stdout>:Train Epoch: 1 [5760/60000 (10%)]\tLoss: 2.207612\n",
      "[1,0]<stdout>:Train Epoch: 1 [6400/60000 (11%)]\tLoss: 2.199354\n",
      "[1,0]<stdout>:Train Epoch: 1 [7040/60000 (12%)]\tLoss: 2.165684\n",
      "[1,0]<stdout>:Train Epoch: 1 [7680/60000 (13%)]\tLoss: 2.165754\n",
      "[1,0]<stdout>:Train Epoch: 1 [8320/60000 (14%)]\tLoss: 2.195857\n",
      "[1,0]<stdout>:Train Epoch: 1 [8960/60000 (15%)]\tLoss: 2.052883\n",
      "[1,0]<stdout>:Train Epoch: 1 [9600/60000 (16%)]\tLoss: 1.981519\n",
      "[1,0]<stdout>:Train Epoch: 1 [10240/60000 (17%)]\tLoss: 1.971234\n",
      "[1,0]<stdout>:Train Epoch: 1 [10880/60000 (18%)]\tLoss: 1.786816\n",
      "[1,0]<stdout>:Train Epoch: 1 [11520/60000 (19%)]\tLoss: 1.905536\n",
      "[1,0]<stdout>:Train Epoch: 1 [12160/60000 (20%)]\tLoss: 1.558711\n",
      "[1,0]<stdout>:Train Epoch: 1 [12800/60000 (21%)]\tLoss: 1.499265\n",
      "[1,0]<stdout>:Train Epoch: 1 [13440/60000 (22%)]\tLoss: 1.485409\n",
      "[1,0]<stdout>:Train Epoch: 1 [14080/60000 (23%)]\tLoss: 1.142100\n",
      "[1,0]<stdout>:Train Epoch: 1 [14720/60000 (25%)]\tLoss: 1.182494\n",
      "[1,0]<stdout>:Train Epoch: 1 [15360/60000 (26%)]\tLoss: 1.189353\n",
      "[1,0]<stdout>:Train Epoch: 1 [16000/60000 (27%)]\tLoss: 1.272009\n",
      "[1,0]<stdout>:Train Epoch: 1 [16640/60000 (28%)]\tLoss: 1.108231\n",
      "[1,0]<stdout>:Train Epoch: 1 [17280/60000 (29%)]\tLoss: 1.055522\n",
      "[1,0]<stdout>:Train Epoch: 1 [17920/60000 (30%)]\tLoss: 1.197035\n",
      "[1,0]<stdout>:Train Epoch: 1 [18560/60000 (31%)]\tLoss: 0.990560\n",
      "[1,0]<stdout>:Train Epoch: 1 [19200/60000 (32%)]\tLoss: 0.947367\n",
      "[1,0]<stdout>:Train Epoch: 1 [19840/60000 (33%)]\tLoss: 0.953612\n",
      "[1,0]<stdout>:Train Epoch: 1 [20480/60000 (34%)]\tLoss: 1.096437\n",
      "[1,0]<stdout>:Train Epoch: 1 [21120/60000 (35%)]\tLoss: 0.939252\n",
      "[1,0]<stdout>:Train Epoch: 1 [21760/60000 (36%)]\tLoss: 0.826822\n",
      "[1,0]<stdout>:Train Epoch: 1 [22400/60000 (37%)]\tLoss: 0.761420\n",
      "[1,0]<stdout>:Train Epoch: 1 [23040/60000 (38%)]\tLoss: 0.672692\n",
      "[1,0]<stdout>:Train Epoch: 1 [23680/60000 (39%)]\tLoss: 0.604407\n",
      "[1,0]<stdout>:Train Epoch: 1 [24320/60000 (41%)]\tLoss: 0.714218\n",
      "[1,0]<stdout>:Train Epoch: 1 [24960/60000 (42%)]\tLoss: 0.736620\n",
      "[1,0]<stdout>:Train Epoch: 1 [25600/60000 (43%)]\tLoss: 0.895766\n",
      "[1,0]<stdout>:Train Epoch: 1 [26240/60000 (44%)]\tLoss: 0.845299\n",
      "[1,0]<stdout>:Train Epoch: 1 [26880/60000 (45%)]\tLoss: 0.615059\n",
      "[1,0]<stdout>:Train Epoch: 1 [27520/60000 (46%)]\tLoss: 0.899840\n",
      "[1,0]<stdout>:Train Epoch: 1 [28160/60000 (47%)]\tLoss: 0.721941\n",
      "[1,0]<stdout>:Train Epoch: 1 [28800/60000 (48%)]\tLoss: 0.667308\n",
      "[1,0]<stdout>:Train Epoch: 1 [29440/60000 (49%)]\tLoss: 0.633187\n",
      "[1,0]<stdout>:Train Epoch: 1 [30080/60000 (50%)]\tLoss: 0.656606\n",
      "[1,0]<stdout>:Train Epoch: 1 [30720/60000 (51%)]\tLoss: 0.712112\n",
      "[1,0]<stdout>:Train Epoch: 1 [31360/60000 (52%)]\tLoss: 0.692972\n",
      "[1,0]<stdout>:Train Epoch: 1 [32000/60000 (53%)]\tLoss: 0.725858\n",
      "[1,0]<stdout>:Train Epoch: 1 [32640/60000 (54%)]\tLoss: 0.584961\n",
      "[1,0]<stdout>:Train Epoch: 1 [33280/60000 (55%)]\tLoss: 0.561779\n",
      "[1,0]<stdout>:Train Epoch: 1 [33920/60000 (57%)]\tLoss: 0.482593\n",
      "[1,0]<stdout>:Train Epoch: 1 [34560/60000 (58%)]\tLoss: 0.880217\n",
      "[1,0]<stdout>:Train Epoch: 1 [35200/60000 (59%)]\tLoss: 0.837875\n",
      "[1,0]<stdout>:Train Epoch: 1 [35840/60000 (60%)]\tLoss: 0.644954\n",
      "[1,0]<stdout>:Train Epoch: 1 [36480/60000 (61%)]\tLoss: 0.509769\n",
      "[1,0]<stdout>:Train Epoch: 1 [37120/60000 (62%)]\tLoss: 0.653802\n",
      "[1,0]<stdout>:Train Epoch: 1 [37760/60000 (63%)]\tLoss: 0.552123\n",
      "[1,0]<stdout>:Train Epoch: 1 [38400/60000 (64%)]\tLoss: 0.397311\n",
      "[1,0]<stdout>:Train Epoch: 1 [39040/60000 (65%)]\tLoss: 0.665172\n",
      "[1,0]<stdout>:Train Epoch: 1 [39680/60000 (66%)]\tLoss: 0.296398\n",
      "[1,0]<stdout>:Train Epoch: 1 [40320/60000 (67%)]\tLoss: 0.756194\n",
      "[1,0]<stdout>:Train Epoch: 1 [40960/60000 (68%)]\tLoss: 0.697611\n",
      "[1,0]<stdout>:Train Epoch: 1 [41600/60000 (69%)]\tLoss: 0.759602\n",
      "[1,0]<stdout>:Train Epoch: 1 [42240/60000 (70%)]\tLoss: 0.609397\n",
      "[1,0]<stdout>:Train Epoch: 1 [42880/60000 (71%)]\tLoss: 0.470515\n",
      "[1,0]<stdout>:Train Epoch: 1 [43520/60000 (72%)]\tLoss: 0.533226\n",
      "[1,0]<stdout>:Train Epoch: 1 [44160/60000 (74%)]\tLoss: 0.611254\n",
      "[1,0]<stdout>:Train Epoch: 1 [44800/60000 (75%)]\tLoss: 0.431983\n",
      "[1,0]<stdout>:Train Epoch: 1 [45440/60000 (76%)]\tLoss: 0.440490\n",
      "[1,0]<stdout>:Train Epoch: 1 [46080/60000 (77%)]\tLoss: 0.540954\n",
      "[1,0]<stdout>:Train Epoch: 1 [46720/60000 (78%)]\tLoss: 0.457102\n",
      "[1,0]<stdout>:Train Epoch: 1 [47360/60000 (79%)]\tLoss: 0.393229\n",
      "[1,0]<stdout>:Train Epoch: 1 [48000/60000 (80%)]\tLoss: 0.628548\n",
      "[1,0]<stdout>:Train Epoch: 1 [48640/60000 (81%)]\tLoss: 0.502180\n",
      "[1,0]<stdout>:Train Epoch: 1 [49280/60000 (82%)]\tLoss: 0.752972\n",
      "[1,0]<stdout>:Train Epoch: 1 [49920/60000 (83%)]\tLoss: 0.519916\n",
      "[1,0]<stdout>:Train Epoch: 1 [50560/60000 (84%)]\tLoss: 0.567781\n",
      "[1,0]<stdout>:Train Epoch: 1 [51200/60000 (85%)]\tLoss: 1.026097\n",
      "[1,0]<stdout>:Train Epoch: 1 [51840/60000 (86%)]\tLoss: 0.578982\n",
      "[1,0]<stdout>:Train Epoch: 1 [52480/60000 (87%)]\tLoss: 0.456361\n",
      "[1,0]<stdout>:Train Epoch: 1 [53120/60000 (88%)]\tLoss: 0.500456\n",
      "[1,0]<stdout>:Train Epoch: 1 [53760/60000 (90%)]\tLoss: 0.607564\n",
      "[1,0]<stdout>:Train Epoch: 1 [54400/60000 (91%)]\tLoss: 0.395693\n",
      "[1,0]<stdout>:Train Epoch: 1 [55040/60000 (92%)]\tLoss: 0.588550\n",
      "[1,0]<stdout>:Train Epoch: 1 [55680/60000 (93%)]\tLoss: 0.496003\n",
      "[1,0]<stdout>:Train Epoch: 1 [56320/60000 (94%)]\tLoss: 0.259789\n",
      "[1,0]<stdout>:Train Epoch: 1 [56960/60000 (95%)]\tLoss: 0.677073\n",
      "[1,0]<stdout>:Train Epoch: 1 [57600/60000 (96%)]\tLoss: 0.545216\n",
      "[1,0]<stdout>:Train Epoch: 1 [58240/60000 (97%)]\tLoss: 0.452351\n",
      "[1,0]<stdout>:Train Epoch: 1 [58880/60000 (98%)]\tLoss: 0.475196\n",
      "[1,0]<stdout>:Train Epoch: 1 [59520/60000 (99%)]\tLoss: 0.303449\n",
      "[1,0]<stdout>:\n",
      "[1,0]<stdout>:Test set: Average loss: 0.2131, Accuracy: 93.74%\n",
      "[1,0]<stdout>:\n",
      "[1,0]<stdout>:Train Epoch: 2 [0/60000 (0%)]\tLoss: 0.452887\n",
      "[1,0]<stdout>:Train Epoch: 2 [640/60000 (1%)]\tLoss: 0.364116\n",
      "[1,0]<stdout>:Train Epoch: 2 [1280/60000 (2%)]\tLoss: 0.525896\n",
      "[1,0]<stdout>:Train Epoch: 2 [1920/60000 (3%)]\tLoss: 0.630903\n",
      "[1,0]<stdout>:Train Epoch: 2 [2560/60000 (4%)]\tLoss: 0.593541\n",
      "[1,0]<stdout>:Train Epoch: 2 [3200/60000 (5%)]\tLoss: 0.343854\n",
      "[1,0]<stdout>:Train Epoch: 2 [3840/60000 (6%)]\tLoss: 0.651475\n",
      "[1,0]<stdout>:Train Epoch: 2 [4480/60000 (7%)]\tLoss: 0.540545\n",
      "[1,0]<stdout>:Train Epoch: 2 [5120/60000 (9%)]\tLoss: 0.534801\n",
      "[1,0]<stdout>:Train Epoch: 2 [5760/60000 (10%)]\tLoss: 0.444222\n",
      "[1,0]<stdout>:Train Epoch: 2 [6400/60000 (11%)]\tLoss: 0.406852\n",
      "[1,0]<stdout>:Train Epoch: 2 [7040/60000 (12%)]\tLoss: 0.344734\n",
      "[1,0]<stdout>:Train Epoch: 2 [7680/60000 (13%)]\tLoss: 0.424884\n",
      "[1,0]<stdout>:Train Epoch: 2 [8320/60000 (14%)]\tLoss: 0.444083\n",
      "[1,0]<stdout>:Train Epoch: 2 [8960/60000 (15%)]\tLoss: 0.352948\n",
      "[1,0]<stdout>:Train Epoch: 2 [9600/60000 (16%)]\tLoss: 0.622865\n",
      "[1,0]<stdout>:Train Epoch: 2 [10240/60000 (17%)]\tLoss: 0.527447\n",
      "[1,0]<stdout>:Train Epoch: 2 [10880/60000 (18%)]\tLoss: 0.291557\n",
      "[1,0]<stdout>:Train Epoch: 2 [11520/60000 (19%)]\tLoss: 0.425084\n",
      "[1,0]<stdout>:Train Epoch: 2 [12160/60000 (20%)]\tLoss: 0.472697\n",
      "[1,0]<stdout>:Train Epoch: 2 [12800/60000 (21%)]\tLoss: 0.570644\n",
      "[1,0]<stdout>:Train Epoch: 2 [13440/60000 (22%)]\tLoss: 0.398822\n",
      "[1,0]<stdout>:Train Epoch: 2 [14080/60000 (23%)]\tLoss: 0.331888\n",
      "[1,0]<stdout>:Train Epoch: 2 [14720/60000 (25%)]\tLoss: 0.295688\n",
      "[1,0]<stdout>:Train Epoch: 2 [15360/60000 (26%)]\tLoss: 0.401397\n",
      "[1,0]<stdout>:Train Epoch: 2 [16000/60000 (27%)]\tLoss: 0.464506\n",
      "[1,0]<stdout>:Train Epoch: 2 [16640/60000 (28%)]\tLoss: 0.595339\n",
      "[1,0]<stdout>:Train Epoch: 2 [17280/60000 (29%)]\tLoss: 0.421237\n",
      "[1,0]<stdout>:Train Epoch: 2 [17920/60000 (30%)]\tLoss: 0.432549\n",
      "[1,0]<stdout>:Train Epoch: 2 [18560/60000 (31%)]\tLoss: 0.294432\n",
      "[1,0]<stdout>:Train Epoch: 2 [19200/60000 (32%)]\tLoss: 0.398180\n",
      "[1,0]<stdout>:Train Epoch: 2 [19840/60000 (33%)]\tLoss: 0.386701\n",
      "[1,0]<stdout>:Train Epoch: 2 [20480/60000 (34%)]\tLoss: 0.687277\n",
      "[1,0]<stdout>:Train Epoch: 2 [21120/60000 (35%)]\tLoss: 0.383609\n",
      "[1,0]<stdout>:Train Epoch: 2 [21760/60000 (36%)]\tLoss: 0.394937\n",
      "[1,0]<stdout>:Train Epoch: 2 [22400/60000 (37%)]\tLoss: 0.368362\n",
      "[1,0]<stdout>:Train Epoch: 2 [23040/60000 (38%)]\tLoss: 0.378579\n",
      "[1,0]<stdout>:Train Epoch: 2 [23680/60000 (39%)]\tLoss: 0.403930\n",
      "[1,0]<stdout>:Train Epoch: 2 [24320/60000 (41%)]\tLoss: 0.457464\n",
      "[1,0]<stdout>:Train Epoch: 2 [24960/60000 (42%)]\tLoss: 0.520999\n",
      "[1,0]<stdout>:Train Epoch: 2 [25600/60000 (43%)]\tLoss: 0.434745\n",
      "[1,0]<stdout>:Train Epoch: 2 [26240/60000 (44%)]\tLoss: 0.403259\n",
      "[1,0]<stdout>:Train Epoch: 2 [26880/60000 (45%)]\tLoss: 0.419647\n",
      "[1,0]<stdout>:Train Epoch: 2 [27520/60000 (46%)]\tLoss: 0.309201\n",
      "[1,0]<stdout>:Train Epoch: 2 [28160/60000 (47%)]\tLoss: 0.383346\n",
      "[1,0]<stdout>:Train Epoch: 2 [28800/60000 (48%)]\tLoss: 0.512255\n",
      "[1,0]<stdout>:Train Epoch: 2 [29440/60000 (49%)]\tLoss: 0.384907\n",
      "[1,0]<stdout>:Train Epoch: 2 [30080/60000 (50%)]\tLoss: 0.297224\n",
      "[1,0]<stdout>:Train Epoch: 2 [30720/60000 (51%)]\tLoss: 0.190226\n",
      "[1,0]<stdout>:Train Epoch: 2 [31360/60000 (52%)]\tLoss: 0.296798\n",
      "[1,0]<stdout>:Train Epoch: 2 [32000/60000 (53%)]\tLoss: 0.387481\n",
      "[1,0]<stdout>:Train Epoch: 2 [32640/60000 (54%)]\tLoss: 0.533246\n",
      "[1,0]<stdout>:Train Epoch: 2 [33280/60000 (55%)]\tLoss: 0.506957\n",
      "[1,0]<stdout>:Train Epoch: 2 [33920/60000 (57%)]\tLoss: 0.328973\n",
      "[1,0]<stdout>:Train Epoch: 2 [34560/60000 (58%)]\tLoss: 0.323811\n",
      "[1,0]<stdout>:Train Epoch: 2 [35200/60000 (59%)]\tLoss: 0.323762\n",
      "[1,0]<stdout>:Train Epoch: 2 [35840/60000 (60%)]\tLoss: 0.247708\n",
      "[1,0]<stdout>:Train Epoch: 2 [36480/60000 (61%)]\tLoss: 0.265419\n",
      "[1,0]<stdout>:Train Epoch: 2 [37120/60000 (62%)]\tLoss: 0.327326\n",
      "[1,0]<stdout>:Train Epoch: 2 [37760/60000 (63%)]\tLoss: 0.268403\n",
      "[1,0]<stdout>:Train Epoch: 2 [38400/60000 (64%)]\tLoss: 0.449874\n",
      "[1,0]<stdout>:Train Epoch: 2 [39040/60000 (65%)]\tLoss: 0.447978\n",
      "[1,0]<stdout>:Train Epoch: 2 [39680/60000 (66%)]\tLoss: 0.465032\n",
      "[1,0]<stdout>:Train Epoch: 2 [40320/60000 (67%)]\tLoss: 0.551657\n",
      "[1,0]<stdout>:Train Epoch: 2 [40960/60000 (68%)]\tLoss: 0.404641\n",
      "[1,0]<stdout>:Train Epoch: 2 [41600/60000 (69%)]\tLoss: 0.314766\n",
      "[1,0]<stdout>:Train Epoch: 2 [42240/60000 (70%)]\tLoss: 0.433178\n",
      "[1,0]<stdout>:Train Epoch: 2 [42880/60000 (71%)]\tLoss: 0.384445\n",
      "[1,0]<stdout>:Train Epoch: 2 [43520/60000 (72%)]\tLoss: 0.408412\n",
      "[1,0]<stdout>:Train Epoch: 2 [44160/60000 (74%)]\tLoss: 0.579174\n",
      "[1,0]<stdout>:Train Epoch: 2 [44800/60000 (75%)]\tLoss: 0.293582\n",
      "[1,0]<stdout>:Train Epoch: 2 [45440/60000 (76%)]\tLoss: 0.470052\n",
      "[1,0]<stdout>:Train Epoch: 2 [46080/60000 (77%)]\tLoss: 0.479676\n",
      "[1,0]<stdout>:Train Epoch: 2 [46720/60000 (78%)]\tLoss: 0.276927\n",
      "[1,0]<stdout>:Train Epoch: 2 [47360/60000 (79%)]\tLoss: 0.180281\n",
      "[1,0]<stdout>:Train Epoch: 2 [48000/60000 (80%)]\tLoss: 0.442363\n",
      "[1,0]<stdout>:Train Epoch: 2 [48640/60000 (81%)]\tLoss: 0.383479\n",
      "[1,0]<stdout>:Train Epoch: 2 [49280/60000 (82%)]\tLoss: 0.320986\n",
      "[1,0]<stdout>:Train Epoch: 2 [49920/60000 (83%)]\tLoss: 0.312270\n",
      "[1,0]<stdout>:Train Epoch: 2 [50560/60000 (84%)]\tLoss: 0.272480\n",
      "[1,0]<stdout>:Train Epoch: 2 [51200/60000 (85%)]\tLoss: 0.364580\n",
      "[1,0]<stdout>:Train Epoch: 2 [51840/60000 (86%)]\tLoss: 0.316335\n",
      "[1,0]<stdout>:Train Epoch: 2 [52480/60000 (87%)]\tLoss: 0.375400\n",
      "[1,0]<stdout>:Train Epoch: 2 [53120/60000 (88%)]\tLoss: 0.218615\n",
      "[1,0]<stdout>:Train Epoch: 2 [53760/60000 (90%)]\tLoss: 0.435141\n",
      "[1,0]<stdout>:Train Epoch: 2 [54400/60000 (91%)]\tLoss: 0.296008\n",
      "[1,0]<stdout>:Train Epoch: 2 [55040/60000 (92%)]\tLoss: 0.208529\n",
      "[1,0]<stdout>:Train Epoch: 2 [55680/60000 (93%)]\tLoss: 0.418863\n",
      "[1,0]<stdout>:Train Epoch: 2 [56320/60000 (94%)]\tLoss: 0.225707\n",
      "[1,0]<stdout>:Train Epoch: 2 [56960/60000 (95%)]\tLoss: 0.215709\n",
      "[1,0]<stdout>:Train Epoch: 2 [57600/60000 (96%)]\tLoss: 0.277798\n",
      "[1,0]<stdout>:Train Epoch: 2 [58240/60000 (97%)]\tLoss: 0.378488\n",
      "[1,0]<stdout>:Train Epoch: 2 [58880/60000 (98%)]\tLoss: 0.406087\n",
      "[1,0]<stdout>:Train Epoch: 2 [59520/60000 (99%)]\tLoss: 0.311577\n",
      "[1,0]<stdout>:\n",
      "[1,0]<stdout>:Test set: Average loss: 0.1360, Accuracy: 95.80%\n",
      "[1,0]<stdout>:\n",
      "[1,0]<stdout>:Train Epoch: 3 [0/60000 (0%)]\tLoss: 0.358250\n",
      "[1,0]<stdout>:Train Epoch: 3 [640/60000 (1%)]\tLoss: 0.316467\n",
      "[1,0]<stdout>:Train Epoch: 3 [1280/60000 (2%)]\tLoss: 0.484380\n",
      "[1,0]<stdout>:Train Epoch: 3 [1920/60000 (3%)]\tLoss: 0.251327\n",
      "[1,0]<stdout>:Train Epoch: 3 [2560/60000 (4%)]\tLoss: 0.351329\n",
      "[1,0]<stdout>:Train Epoch: 3 [3200/60000 (5%)]\tLoss: 0.335486\n",
      "[1,0]<stdout>:Train Epoch: 3 [3840/60000 (6%)]\tLoss: 0.408961\n",
      "[1,0]<stdout>:Train Epoch: 3 [4480/60000 (7%)]\tLoss: 0.317971\n",
      "[1,0]<stdout>:Train Epoch: 3 [5120/60000 (9%)]\tLoss: 0.256587\n",
      "[1,0]<stdout>:Train Epoch: 3 [5760/60000 (10%)]\tLoss: 0.593354\n",
      "[1,0]<stdout>:Train Epoch: 3 [6400/60000 (11%)]\tLoss: 0.364199\n",
      "[1,0]<stdout>:Train Epoch: 3 [7040/60000 (12%)]\tLoss: 0.244588\n",
      "[1,0]<stdout>:Train Epoch: 3 [7680/60000 (13%)]\tLoss: 0.474448\n",
      "[1,0]<stdout>:Train Epoch: 3 [8320/60000 (14%)]\tLoss: 0.382133\n",
      "[1,0]<stdout>:Train Epoch: 3 [8960/60000 (15%)]\tLoss: 0.267444\n",
      "[1,0]<stdout>:Train Epoch: 3 [9600/60000 (16%)]\tLoss: 0.325927\n",
      "[1,0]<stdout>:Train Epoch: 3 [10240/60000 (17%)]\tLoss: 0.264113\n",
      "[1,0]<stdout>:Train Epoch: 3 [10880/60000 (18%)]\tLoss: 0.390826\n",
      "[1,0]<stdout>:Train Epoch: 3 [11520/60000 (19%)]\tLoss: 0.363962\n",
      "[1,0]<stdout>:Train Epoch: 3 [12160/60000 (20%)]\tLoss: 0.303036\n",
      "[1,0]<stdout>:Train Epoch: 3 [12800/60000 (21%)]\tLoss: 0.482702\n",
      "[1,0]<stdout>:Train Epoch: 3 [13440/60000 (22%)]\tLoss: 0.356842\n",
      "[1,0]<stdout>:Train Epoch: 3 [14080/60000 (23%)]\tLoss: 0.280752\n",
      "[1,0]<stdout>:Train Epoch: 3 [14720/60000 (25%)]\tLoss: 0.299095\n",
      "[1,0]<stdout>:Train Epoch: 3 [15360/60000 (26%)]\tLoss: 0.367433\n",
      "[1,0]<stdout>:Train Epoch: 3 [16000/60000 (27%)]\tLoss: 0.414417\n",
      "[1,0]<stdout>:Train Epoch: 3 [16640/60000 (28%)]\tLoss: 0.232529\n",
      "[1,0]<stdout>:Train Epoch: 3 [17280/60000 (29%)]\tLoss: 0.142504\n",
      "[1,0]<stdout>:Train Epoch: 3 [17920/60000 (30%)]\tLoss: 0.589107\n",
      "[1,0]<stdout>:Train Epoch: 3 [18560/60000 (31%)]\tLoss: 0.340887\n",
      "[1,0]<stdout>:Train Epoch: 3 [19200/60000 (32%)]\tLoss: 0.482378\n",
      "[1,0]<stdout>:Train Epoch: 3 [19840/60000 (33%)]\tLoss: 0.446656\n",
      "[1,0]<stdout>:Train Epoch: 3 [20480/60000 (34%)]\tLoss: 0.146650\n",
      "[1,0]<stdout>:Train Epoch: 3 [21120/60000 (35%)]\tLoss: 0.384406\n",
      "[1,0]<stdout>:Train Epoch: 3 [21760/60000 (36%)]\tLoss: 0.260860\n",
      "[1,0]<stdout>:Train Epoch: 3 [22400/60000 (37%)]\tLoss: 0.450021\n",
      "[1,0]<stdout>:Train Epoch: 3 [23040/60000 (38%)]\tLoss: 0.192404\n",
      "[1,0]<stdout>:Train Epoch: 3 [23680/60000 (39%)]\tLoss: 0.250838\n",
      "[1,0]<stdout>:Train Epoch: 3 [24320/60000 (41%)]\tLoss: 0.391740\n",
      "[1,0]<stdout>:Train Epoch: 3 [24960/60000 (42%)]\tLoss: 0.282445\n",
      "[1,0]<stdout>:Train Epoch: 3 [25600/60000 (43%)]\tLoss: 0.296713\n",
      "[1,0]<stdout>:Train Epoch: 3 [26240/60000 (44%)]\tLoss: 0.161766\n",
      "[1,0]<stdout>:Train Epoch: 3 [26880/60000 (45%)]\tLoss: 0.311557\n",
      "[1,0]<stdout>:Train Epoch: 3 [27520/60000 (46%)]\tLoss: 0.236681\n",
      "[1,0]<stdout>:Train Epoch: 3 [28160/60000 (47%)]\tLoss: 0.239032\n",
      "[1,0]<stdout>:Train Epoch: 3 [28800/60000 (48%)]\tLoss: 0.481901\n",
      "[1,0]<stdout>:Train Epoch: 3 [29440/60000 (49%)]\tLoss: 0.345306\n",
      "[1,0]<stdout>:Train Epoch: 3 [30080/60000 (50%)]\tLoss: 0.417819\n",
      "[1,0]<stdout>:Train Epoch: 3 [30720/60000 (51%)]\tLoss: 0.282229\n",
      "[1,0]<stdout>:Train Epoch: 3 [31360/60000 (52%)]\tLoss: 0.438376\n",
      "[1,0]<stdout>:Train Epoch: 3 [32000/60000 (53%)]\tLoss: 0.159525\n",
      "[1,0]<stdout>:Train Epoch: 3 [32640/60000 (54%)]\tLoss: 0.340457\n",
      "[1,0]<stdout>:Train Epoch: 3 [33280/60000 (55%)]\tLoss: 0.266776\n",
      "[1,0]<stdout>:Train Epoch: 3 [33920/60000 (57%)]\tLoss: 0.335044\n",
      "[1,0]<stdout>:Train Epoch: 3 [34560/60000 (58%)]\tLoss: 0.550203\n",
      "[1,0]<stdout>:Train Epoch: 3 [35200/60000 (59%)]\tLoss: 0.320878\n",
      "[1,0]<stdout>:Train Epoch: 3 [35840/60000 (60%)]\tLoss: 0.349635\n",
      "[1,0]<stdout>:Train Epoch: 3 [36480/60000 (61%)]\tLoss: 0.350938\n",
      "[1,0]<stdout>:Train Epoch: 3 [37120/60000 (62%)]\tLoss: 0.293327\n",
      "[1,0]<stdout>:Train Epoch: 3 [37760/60000 (63%)]\tLoss: 0.249150\n",
      "[1,0]<stdout>:Train Epoch: 3 [38400/60000 (64%)]\tLoss: 0.297493\n",
      "[1,0]<stdout>:Train Epoch: 3 [39040/60000 (65%)]\tLoss: 0.225712\n",
      "[1,0]<stdout>:Train Epoch: 3 [39680/60000 (66%)]\tLoss: 0.437994\n",
      "[1,0]<stdout>:Train Epoch: 3 [40320/60000 (67%)]\tLoss: 0.292982\n",
      "[1,0]<stdout>:Train Epoch: 3 [40960/60000 (68%)]\tLoss: 0.286071\n",
      "[1,0]<stdout>:Train Epoch: 3 [41600/60000 (69%)]\tLoss: 0.185063\n",
      "[1,0]<stdout>:Train Epoch: 3 [42240/60000 (70%)]\tLoss: 0.346235\n",
      "[1,0]<stdout>:Train Epoch: 3 [42880/60000 (71%)]\tLoss: 0.233688\n",
      "[1,0]<stdout>:Train Epoch: 3 [43520/60000 (72%)]\tLoss: 0.481010\n",
      "[1,0]<stdout>:Train Epoch: 3 [44160/60000 (74%)]\tLoss: 0.198585\n",
      "[1,0]<stdout>:Train Epoch: 3 [44800/60000 (75%)]\tLoss: 0.200191\n",
      "[1,0]<stdout>:Train Epoch: 3 [45440/60000 (76%)]\tLoss: 0.615661\n",
      "[1,0]<stdout>:Train Epoch: 3 [46080/60000 (77%)]\tLoss: 0.280363\n",
      "[1,0]<stdout>:Train Epoch: 3 [46720/60000 (78%)]\tLoss: 0.209682\n",
      "[1,0]<stdout>:Train Epoch: 3 [47360/60000 (79%)]\tLoss: 0.178421\n",
      "[1,0]<stdout>:Train Epoch: 3 [48000/60000 (80%)]\tLoss: 0.255009\n",
      "[1,0]<stdout>:Train Epoch: 3 [48640/60000 (81%)]\tLoss: 0.372458\n",
      "[1,0]<stdout>:Train Epoch: 3 [49280/60000 (82%)]\tLoss: 0.235467\n",
      "[1,0]<stdout>:Train Epoch: 3 [49920/60000 (83%)]\tLoss: 0.287776\n",
      "[1,0]<stdout>:Train Epoch: 3 [50560/60000 (84%)]\tLoss: 0.252166\n",
      "[1,0]<stdout>:Train Epoch: 3 [51200/60000 (85%)]\tLoss: 0.220628\n",
      "[1,0]<stdout>:Train Epoch: 3 [51840/60000 (86%)]\tLoss: 0.187821\n",
      "[1,0]<stdout>:Train Epoch: 3 [52480/60000 (87%)]\tLoss: 0.360383\n",
      "[1,0]<stdout>:Train Epoch: 3 [53120/60000 (88%)]\tLoss: 0.192350\n",
      "[1,0]<stdout>:Train Epoch: 3 [53760/60000 (90%)]\tLoss: 0.280458\n",
      "[1,0]<stdout>:Train Epoch: 3 [54400/60000 (91%)]\tLoss: 0.109722\n",
      "[1,0]<stdout>:Train Epoch: 3 [55040/60000 (92%)]\tLoss: 0.525927\n",
      "[1,0]<stdout>:Train Epoch: 3 [55680/60000 (93%)]\tLoss: 0.230164\n",
      "[1,0]<stdout>:Train Epoch: 3 [56320/60000 (94%)]\tLoss: 0.248238\n",
      "[1,0]<stdout>:Train Epoch: 3 [56960/60000 (95%)]\tLoss: 0.186706\n",
      "[1,0]<stdout>:Train Epoch: 3 [57600/60000 (96%)]\tLoss: 0.299664\n",
      "[1,0]<stdout>:Train Epoch: 3 [58240/60000 (97%)]\tLoss: 0.177817\n",
      "[1,0]<stdout>:Train Epoch: 3 [58880/60000 (98%)]\tLoss: 0.291260\n",
      "[1,0]<stdout>:Train Epoch: 3 [59520/60000 (99%)]\tLoss: 0.185534\n",
      "[1,0]<stdout>:\n",
      "[1,0]<stdout>:Test set: Average loss: 0.1084, Accuracy: 96.60%\n",
      "[1,0]<stdout>:\n",
      "[1,0]<stdout>:Train Epoch: 4 [0/60000 (0%)]\tLoss: 0.227612\n",
      "[1,0]<stdout>:Train Epoch: 4 [640/60000 (1%)]\tLoss: 0.090109\n",
      "[1,0]<stdout>:Train Epoch: 4 [1280/60000 (2%)]\tLoss: 0.292420\n",
      "[1,0]<stdout>:Train Epoch: 4 [1920/60000 (3%)]\tLoss: 0.098911\n",
      "[1,0]<stdout>:Train Epoch: 4 [2560/60000 (4%)]\tLoss: 0.183340\n",
      "[1,0]<stdout>:Train Epoch: 4 [3200/60000 (5%)]\tLoss: 0.398337\n",
      "[1,0]<stdout>:Train Epoch: 4 [3840/60000 (6%)]\tLoss: 0.288144\n",
      "[1,0]<stdout>:Train Epoch: 4 [4480/60000 (7%)]\tLoss: 0.261568\n",
      "[1,0]<stdout>:Train Epoch: 4 [5120/60000 (9%)]\tLoss: 0.277698\n",
      "[1,0]<stdout>:Train Epoch: 4 [5760/60000 (10%)]\tLoss: 0.356470\n",
      "[1,0]<stdout>:Train Epoch: 4 [6400/60000 (11%)]\tLoss: 0.216686\n",
      "[1,0]<stdout>:Train Epoch: 4 [7040/60000 (12%)]\tLoss: 0.152425\n",
      "[1,0]<stdout>:Train Epoch: 4 [7680/60000 (13%)]\tLoss: 0.413507\n",
      "[1,0]<stdout>:Train Epoch: 4 [8320/60000 (14%)]\tLoss: 0.229318\n",
      "[1,0]<stdout>:Train Epoch: 4 [8960/60000 (15%)]\tLoss: 0.168892\n",
      "[1,0]<stdout>:Train Epoch: 4 [9600/60000 (16%)]\tLoss: 0.386596\n",
      "[1,0]<stdout>:Train Epoch: 4 [10240/60000 (17%)]\tLoss: 0.259756\n",
      "[1,0]<stdout>:Train Epoch: 4 [10880/60000 (18%)]\tLoss: 0.237952\n",
      "[1,0]<stdout>:Train Epoch: 4 [11520/60000 (19%)]\tLoss: 0.245982\n",
      "[1,0]<stdout>:Train Epoch: 4 [12160/60000 (20%)]\tLoss: 0.338793\n",
      "[1,0]<stdout>:Train Epoch: 4 [12800/60000 (21%)]\tLoss: 0.366134\n",
      "[1,0]<stdout>:Train Epoch: 4 [13440/60000 (22%)]\tLoss: 0.247705\n",
      "[1,0]<stdout>:Train Epoch: 4 [14080/60000 (23%)]\tLoss: 0.294175\n",
      "[1,0]<stdout>:Train Epoch: 4 [14720/60000 (25%)]\tLoss: 0.157750\n",
      "[1,0]<stdout>:Train Epoch: 4 [15360/60000 (26%)]\tLoss: 0.331035\n",
      "[1,0]<stdout>:Train Epoch: 4 [16000/60000 (27%)]\tLoss: 0.303341\n",
      "[1,0]<stdout>:Train Epoch: 4 [16640/60000 (28%)]\tLoss: 0.438542\n",
      "[1,0]<stdout>:Train Epoch: 4 [17280/60000 (29%)]\tLoss: 0.141770\n",
      "[1,0]<stdout>:Train Epoch: 4 [17920/60000 (30%)]\tLoss: 0.316088\n",
      "[1,0]<stdout>:Train Epoch: 4 [18560/60000 (31%)]\tLoss: 0.197632\n",
      "[1,0]<stdout>:Train Epoch: 4 [19200/60000 (32%)]\tLoss: 0.332302\n",
      "[1,0]<stdout>:Train Epoch: 4 [19840/60000 (33%)]\tLoss: 0.460822\n",
      "[1,0]<stdout>:Train Epoch: 4 [20480/60000 (34%)]\tLoss: 0.247312\n",
      "[1,0]<stdout>:Train Epoch: 4 [21120/60000 (35%)]\tLoss: 0.496473\n",
      "[1,0]<stdout>:Train Epoch: 4 [21760/60000 (36%)]\tLoss: 0.178416\n",
      "[1,0]<stdout>:Train Epoch: 4 [22400/60000 (37%)]\tLoss: 0.184017\n",
      "[1,0]<stdout>:Train Epoch: 4 [23040/60000 (38%)]\tLoss: 0.277748\n",
      "[1,0]<stdout>:Train Epoch: 4 [23680/60000 (39%)]\tLoss: 0.226338\n",
      "[1,0]<stdout>:Train Epoch: 4 [24320/60000 (41%)]\tLoss: 0.286714\n",
      "[1,0]<stdout>:Train Epoch: 4 [24960/60000 (42%)]\tLoss: 0.381069\n",
      "[1,0]<stdout>:Train Epoch: 4 [25600/60000 (43%)]\tLoss: 0.476545\n",
      "[1,0]<stdout>:Train Epoch: 4 [26240/60000 (44%)]\tLoss: 0.207378\n",
      "[1,0]<stdout>:Train Epoch: 4 [26880/60000 (45%)]\tLoss: 0.361191\n",
      "[1,0]<stdout>:Train Epoch: 4 [27520/60000 (46%)]\tLoss: 0.313058\n",
      "[1,0]<stdout>:Train Epoch: 4 [28160/60000 (47%)]\tLoss: 0.320504\n",
      "[1,0]<stdout>:Train Epoch: 4 [28800/60000 (48%)]\tLoss: 0.358628\n",
      "[1,0]<stdout>:Train Epoch: 4 [29440/60000 (49%)]\tLoss: 0.457776\n",
      "[1,0]<stdout>:Train Epoch: 4 [30080/60000 (50%)]\tLoss: 0.307816\n",
      "[1,0]<stdout>:Train Epoch: 4 [30720/60000 (51%)]\tLoss: 0.384296\n",
      "[1,0]<stdout>:Train Epoch: 4 [31360/60000 (52%)]\tLoss: 0.177999\n",
      "[1,0]<stdout>:Train Epoch: 4 [32000/60000 (53%)]\tLoss: 0.263004\n",
      "[1,0]<stdout>:Train Epoch: 4 [32640/60000 (54%)]\tLoss: 0.247839\n",
      "[1,0]<stdout>:Train Epoch: 4 [33280/60000 (55%)]\tLoss: 0.255356\n",
      "[1,0]<stdout>:Train Epoch: 4 [33920/60000 (57%)]\tLoss: 0.547975\n",
      "[1,0]<stdout>:Train Epoch: 4 [34560/60000 (58%)]\tLoss: 0.211132\n",
      "[1,0]<stdout>:Train Epoch: 4 [35200/60000 (59%)]\tLoss: 0.338937\n",
      "[1,0]<stdout>:Train Epoch: 4 [35840/60000 (60%)]\tLoss: 0.220928\n",
      "[1,0]<stdout>:Train Epoch: 4 [36480/60000 (61%)]\tLoss: 0.136519\n",
      "[1,0]<stdout>:Train Epoch: 4 [37120/60000 (62%)]\tLoss: 0.146267\n",
      "[1,0]<stdout>:Train Epoch: 4 [37760/60000 (63%)]\tLoss: 0.275888\n",
      "[1,0]<stdout>:Train Epoch: 4 [38400/60000 (64%)]\tLoss: 0.361686\n",
      "[1,0]<stdout>:Train Epoch: 4 [39040/60000 (65%)]\tLoss: 0.218989\n",
      "[1,0]<stdout>:Train Epoch: 4 [39680/60000 (66%)]\tLoss: 0.253975\n",
      "[1,0]<stdout>:Train Epoch: 4 [40320/60000 (67%)]\tLoss: 0.190024\n",
      "[1,0]<stdout>:Train Epoch: 4 [40960/60000 (68%)]\tLoss: 0.425214\n",
      "[1,0]<stdout>:Train Epoch: 4 [41600/60000 (69%)]\tLoss: 0.350298\n",
      "[1,0]<stdout>:Train Epoch: 4 [42240/60000 (70%)]\tLoss: 0.234254\n",
      "[1,0]<stdout>:Train Epoch: 4 [42880/60000 (71%)]\tLoss: 0.268176\n",
      "[1,0]<stdout>:Train Epoch: 4 [43520/60000 (72%)]\tLoss: 0.218469\n",
      "[1,0]<stdout>:Train Epoch: 4 [44160/60000 (74%)]\tLoss: 0.277513\n",
      "[1,0]<stdout>:Train Epoch: 4 [44800/60000 (75%)]\tLoss: 0.144237\n",
      "[1,0]<stdout>:Train Epoch: 4 [45440/60000 (76%)]\tLoss: 0.189871\n",
      "[1,0]<stdout>:Train Epoch: 4 [46080/60000 (77%)]\tLoss: 0.283759\n",
      "[1,0]<stdout>:Train Epoch: 4 [46720/60000 (78%)]\tLoss: 0.262023\n",
      "[1,0]<stdout>:Train Epoch: 4 [47360/60000 (79%)]\tLoss: 0.340632\n",
      "[1,0]<stdout>:Train Epoch: 4 [48000/60000 (80%)]\tLoss: 0.247213\n",
      "[1,0]<stdout>:Train Epoch: 4 [48640/60000 (81%)]\tLoss: 0.170804\n",
      "[1,0]<stdout>:Train Epoch: 4 [49280/60000 (82%)]\tLoss: 0.359987\n",
      "[1,0]<stdout>:Train Epoch: 4 [49920/60000 (83%)]\tLoss: 0.220914\n",
      "[1,0]<stdout>:Train Epoch: 4 [50560/60000 (84%)]\tLoss: 0.490636\n",
      "[1,0]<stdout>:Train Epoch: 4 [51200/60000 (85%)]\tLoss: 0.259511\n",
      "[1,0]<stdout>:Train Epoch: 4 [51840/60000 (86%)]\tLoss: 0.212558\n",
      "[1,0]<stdout>:Train Epoch: 4 [52480/60000 (87%)]\tLoss: 0.284788\n",
      "[1,0]<stdout>:Train Epoch: 4 [53120/60000 (88%)]\tLoss: 0.127639\n",
      "[1,0]<stdout>:Train Epoch: 4 [53760/60000 (90%)]\tLoss: 0.298089\n",
      "[1,0]<stdout>:Train Epoch: 4 [54400/60000 (91%)]\tLoss: 0.185059\n",
      "[1,0]<stdout>:Train Epoch: 4 [55040/60000 (92%)]\tLoss: 0.299915\n",
      "[1,0]<stdout>:Train Epoch: 4 [55680/60000 (93%)]\tLoss: 0.551944\n",
      "[1,0]<stdout>:Train Epoch: 4 [56320/60000 (94%)]\tLoss: 0.364396\n",
      "[1,0]<stdout>:Train Epoch: 4 [56960/60000 (95%)]\tLoss: 0.155989\n",
      "[1,0]<stdout>:Train Epoch: 4 [57600/60000 (96%)]\tLoss: 0.416662\n",
      "[1,0]<stdout>:Train Epoch: 4 [58240/60000 (97%)]\tLoss: 0.567536\n",
      "[1,0]<stdout>:Train Epoch: 4 [58880/60000 (98%)]\tLoss: 0.227562\n",
      "[1,0]<stdout>:Train Epoch: 4 [59520/60000 (99%)]\tLoss: 0.233954\n",
      "[1,0]<stdout>:\n",
      "[1,0]<stdout>:Test set: Average loss: 0.0890, Accuracy: 97.12%\n",
      "[1,0]<stdout>:\n",
      "[1,0]<stdout>:Train Epoch: 5 [0/60000 (0%)]\tLoss: 0.227281\n",
      "[1,0]<stdout>:Train Epoch: 5 [640/60000 (1%)]\tLoss: 0.292124\n",
      "[1,0]<stdout>:Train Epoch: 5 [1280/60000 (2%)]\tLoss: 0.261565\n",
      "[1,0]<stdout>:Train Epoch: 5 [1920/60000 (3%)]\tLoss: 0.115730\n",
      "[1,0]<stdout>:Train Epoch: 5 [2560/60000 (4%)]\tLoss: 0.308017\n",
      "[1,0]<stdout>:Train Epoch: 5 [3200/60000 (5%)]\tLoss: 0.368056\n",
      "[1,0]<stdout>:Train Epoch: 5 [3840/60000 (6%)]\tLoss: 0.285171\n",
      "[1,0]<stdout>:Train Epoch: 5 [4480/60000 (7%)]\tLoss: 0.332637\n",
      "[1,0]<stdout>:Train Epoch: 5 [5120/60000 (9%)]\tLoss: 0.231949\n",
      "[1,0]<stdout>:Train Epoch: 5 [5760/60000 (10%)]\tLoss: 0.220165\n",
      "[1,0]<stdout>:Train Epoch: 5 [6400/60000 (11%)]\tLoss: 0.188345\n",
      "[1,0]<stdout>:Train Epoch: 5 [7040/60000 (12%)]\tLoss: 0.196697\n",
      "[1,0]<stdout>:Train Epoch: 5 [7680/60000 (13%)]\tLoss: 0.568258\n",
      "[1,0]<stdout>:Train Epoch: 5 [8320/60000 (14%)]\tLoss: 0.202947\n",
      "[1,0]<stdout>:Train Epoch: 5 [8960/60000 (15%)]\tLoss: 0.178521\n",
      "[1,0]<stdout>:Train Epoch: 5 [9600/60000 (16%)]\tLoss: 0.234291\n",
      "[1,0]<stdout>:Train Epoch: 5 [10240/60000 (17%)]\tLoss: 0.199543\n",
      "[1,0]<stdout>:Train Epoch: 5 [10880/60000 (18%)]\tLoss: 0.237640\n",
      "[1,0]<stdout>:Train Epoch: 5 [11520/60000 (19%)]\tLoss: 0.145083\n",
      "[1,0]<stdout>:Train Epoch: 5 [12160/60000 (20%)]\tLoss: 0.303199\n",
      "[1,0]<stdout>:Train Epoch: 5 [12800/60000 (21%)]\tLoss: 0.097391\n",
      "[1,0]<stdout>:Train Epoch: 5 [13440/60000 (22%)]\tLoss: 0.166208\n",
      "[1,0]<stdout>:Train Epoch: 5 [14080/60000 (23%)]\tLoss: 0.433590\n",
      "[1,0]<stdout>:Train Epoch: 5 [14720/60000 (25%)]\tLoss: 0.292663\n",
      "[1,0]<stdout>:Train Epoch: 5 [15360/60000 (26%)]\tLoss: 0.158681\n",
      "[1,0]<stdout>:Train Epoch: 5 [16000/60000 (27%)]\tLoss: 0.345169\n",
      "[1,0]<stdout>:Train Epoch: 5 [16640/60000 (28%)]\tLoss: 0.196692\n",
      "[1,0]<stdout>:Train Epoch: 5 [17280/60000 (29%)]\tLoss: 0.191153\n",
      "[1,0]<stdout>:Train Epoch: 5 [17920/60000 (30%)]\tLoss: 0.244563\n",
      "[1,0]<stdout>:Train Epoch: 5 [18560/60000 (31%)]\tLoss: 0.346872\n",
      "[1,0]<stdout>:Train Epoch: 5 [19200/60000 (32%)]\tLoss: 0.132700\n",
      "[1,0]<stdout>:Train Epoch: 5 [19840/60000 (33%)]\tLoss: 0.187543\n",
      "[1,0]<stdout>:Train Epoch: 5 [20480/60000 (34%)]\tLoss: 0.156854\n",
      "[1,0]<stdout>:Train Epoch: 5 [21120/60000 (35%)]\tLoss: 0.396011\n",
      "[1,0]<stdout>:Train Epoch: 5 [21760/60000 (36%)]\tLoss: 0.209846\n",
      "[1,0]<stdout>:Train Epoch: 5 [22400/60000 (37%)]\tLoss: 0.337604\n",
      "[1,0]<stdout>:Train Epoch: 5 [23040/60000 (38%)]\tLoss: 0.410811\n",
      "[1,0]<stdout>:Train Epoch: 5 [23680/60000 (39%)]\tLoss: 0.260977\n",
      "[1,0]<stdout>:Train Epoch: 5 [24320/60000 (41%)]\tLoss: 0.233121\n",
      "[1,0]<stdout>:Train Epoch: 5 [24960/60000 (42%)]\tLoss: 0.098468\n",
      "[1,0]<stdout>:Train Epoch: 5 [25600/60000 (43%)]\tLoss: 0.240493\n",
      "[1,0]<stdout>:Train Epoch: 5 [26240/60000 (44%)]\tLoss: 0.381318\n",
      "[1,0]<stdout>:Train Epoch: 5 [26880/60000 (45%)]\tLoss: 0.200548\n",
      "[1,0]<stdout>:Train Epoch: 5 [27520/60000 (46%)]\tLoss: 0.152481\n",
      "[1,0]<stdout>:Train Epoch: 5 [28160/60000 (47%)]\tLoss: 0.357616\n",
      "[1,0]<stdout>:Train Epoch: 5 [28800/60000 (48%)]\tLoss: 0.402041\n",
      "[1,0]<stdout>:Train Epoch: 5 [29440/60000 (49%)]\tLoss: 0.168353\n",
      "[1,0]<stdout>:Train Epoch: 5 [30080/60000 (50%)]\tLoss: 0.216646\n",
      "[1,0]<stdout>:Train Epoch: 5 [30720/60000 (51%)]\tLoss: 0.207466\n",
      "[1,0]<stdout>:Train Epoch: 5 [31360/60000 (52%)]\tLoss: 0.443484\n",
      "[1,0]<stdout>:Train Epoch: 5 [32000/60000 (53%)]\tLoss: 0.372136\n",
      "[1,0]<stdout>:Train Epoch: 5 [32640/60000 (54%)]\tLoss: 0.169825\n",
      "[1,0]<stdout>:Train Epoch: 5 [33280/60000 (55%)]\tLoss: 0.109131\n",
      "[1,0]<stdout>:Train Epoch: 5 [33920/60000 (57%)]\tLoss: 0.200464\n",
      "[1,0]<stdout>:Train Epoch: 5 [34560/60000 (58%)]\tLoss: 0.294643\n",
      "[1,0]<stdout>:Train Epoch: 5 [35200/60000 (59%)]\tLoss: 0.307355\n",
      "[1,0]<stdout>:Train Epoch: 5 [35840/60000 (60%)]\tLoss: 0.320015\n",
      "[1,0]<stdout>:Train Epoch: 5 [36480/60000 (61%)]\tLoss: 0.140925\n",
      "[1,0]<stdout>:Train Epoch: 5 [37120/60000 (62%)]\tLoss: 0.307688\n",
      "[1,0]<stdout>:Train Epoch: 5 [37760/60000 (63%)]\tLoss: 0.228551\n",
      "[1,0]<stdout>:Train Epoch: 5 [38400/60000 (64%)]\tLoss: 0.163645\n",
      "[1,0]<stdout>:Train Epoch: 5 [39040/60000 (65%)]\tLoss: 0.127090\n",
      "[1,0]<stdout>:Train Epoch: 5 [39680/60000 (66%)]\tLoss: 0.136020\n",
      "[1,0]<stdout>:Train Epoch: 5 [40320/60000 (67%)]\tLoss: 0.268853\n",
      "[1,0]<stdout>:Train Epoch: 5 [40960/60000 (68%)]\tLoss: 0.314488\n",
      "[1,0]<stdout>:Train Epoch: 5 [41600/60000 (69%)]\tLoss: 0.191727\n",
      "[1,0]<stdout>:Train Epoch: 5 [42240/60000 (70%)]\tLoss: 0.242404\n",
      "[1,0]<stdout>:Train Epoch: 5 [42880/60000 (71%)]\tLoss: 0.095343\n",
      "[1,0]<stdout>:Train Epoch: 5 [43520/60000 (72%)]\tLoss: 0.203578\n",
      "[1,0]<stdout>:Train Epoch: 5 [44160/60000 (74%)]\tLoss: 0.150121\n",
      "[1,0]<stdout>:Train Epoch: 5 [44800/60000 (75%)]\tLoss: 0.091733\n",
      "[1,0]<stdout>:Train Epoch: 5 [45440/60000 (76%)]\tLoss: 0.201404\n",
      "[1,0]<stdout>:Train Epoch: 5 [46080/60000 (77%)]\tLoss: 0.358162\n",
      "[1,0]<stdout>:Train Epoch: 5 [46720/60000 (78%)]\tLoss: 0.172110\n",
      "[1,0]<stdout>:Train Epoch: 5 [47360/60000 (79%)]\tLoss: 0.107605\n",
      "[1,0]<stdout>:Train Epoch: 5 [48000/60000 (80%)]\tLoss: 0.227635\n",
      "[1,0]<stdout>:Train Epoch: 5 [48640/60000 (81%)]\tLoss: 0.358063\n",
      "[1,0]<stdout>:Train Epoch: 5 [49280/60000 (82%)]\tLoss: 0.135630\n",
      "[1,0]<stdout>:Train Epoch: 5 [49920/60000 (83%)]\tLoss: 0.267429\n",
      "[1,0]<stdout>:Train Epoch: 5 [50560/60000 (84%)]\tLoss: 0.348023\n",
      "[1,0]<stdout>:Train Epoch: 5 [51200/60000 (85%)]\tLoss: 0.291329\n",
      "[1,0]<stdout>:Train Epoch: 5 [51840/60000 (86%)]\tLoss: 0.214667\n",
      "[1,0]<stdout>:Train Epoch: 5 [52480/60000 (87%)]\tLoss: 0.134858\n",
      "[1,0]<stdout>:Train Epoch: 5 [53120/60000 (88%)]\tLoss: 0.152373\n",
      "[1,0]<stdout>:Train Epoch: 5 [53760/60000 (90%)]\tLoss: 0.174713\n",
      "[1,0]<stdout>:Train Epoch: 5 [54400/60000 (91%)]\tLoss: 0.199257\n",
      "[1,0]<stdout>:Train Epoch: 5 [55040/60000 (92%)]\tLoss: 0.149159\n",
      "[1,0]<stdout>:Train Epoch: 5 [55680/60000 (93%)]\tLoss: 0.206700\n",
      "[1,0]<stdout>:Train Epoch: 5 [56320/60000 (94%)]\tLoss: 0.126808\n",
      "[1,0]<stdout>:Train Epoch: 5 [56960/60000 (95%)]\tLoss: 0.206661\n",
      "[1,0]<stdout>:Train Epoch: 5 [57600/60000 (96%)]\tLoss: 0.270595\n",
      "[1,0]<stdout>:Train Epoch: 5 [58240/60000 (97%)]\tLoss: 0.240316\n",
      "[1,0]<stdout>:Train Epoch: 5 [58880/60000 (98%)]\tLoss: 0.290522\n",
      "[1,0]<stdout>:Train Epoch: 5 [59520/60000 (99%)]\tLoss: 0.272720\n",
      "[1,0]<stdout>:\n",
      "[1,0]<stdout>:Test set: Average loss: 0.0779, Accuracy: 97.62%\n",
      "[1,0]<stdout>:\n",
      "\n"
     ]
    }
   ],
   "source": [
    "from aistudio.estimator2 import Estimator\n",
    "from torch.utils.data import DataLoader\n",
    "from torchvision import datasets, transforms\n",
    "import torch\n",
    "import torch.nn as nn\n",
    "import torch.nn.functional as F\n",
    "\n",
    "class Net(nn.Module):\n",
    "    def __init__(self):\n",
    "        super(Net, self).__init__()\n",
    "        self.conv1 = nn.Conv2d(1, 10, kernel_size=5)\n",
    "        self.conv2 = nn.Conv2d(10, 20, kernel_size=5)\n",
    "        self.conv2_drop = nn.Dropout2d()\n",
    "        self.fc1 = nn.Linear(320, 50)\n",
    "        self.fc2 = nn.Linear(50, 10)\n",
    "\n",
    "    def forward(self, x):\n",
    "        x = F.relu(F.max_pool2d(self.conv1(x), 2))\n",
    "        x = F.relu(F.max_pool2d(self.conv2_drop(self.conv2(x)), 2))\n",
    "        x = x.view(-1, 320)\n",
    "        x = F.relu(self.fc1(x))\n",
    "        x = F.dropout(x, training=self.training)\n",
    "        x = self.fc2(x)\n",
    "        return F.log_softmax(x,dim=1)\n",
    "\n",
    "if __name__ == '__main__':\n",
    "    # Data Preparation and Pre-Processing\n",
    "    download_root = 'train-data'\n",
    "    mnist_transform=transforms.Compose([\n",
    "                               transforms.ToTensor()\n",
    "                               ,transforms.Normalize((0.1307,), (0.3081,))\n",
    "                               ])\n",
    "    train_dataset  = datasets.MNIST(download_root, transform=mnist_transform, train=True, download=True)\n",
    "    input_data = train_dataset.data\n",
    "    input_data = torch.div(input_data,255.)\n",
    "    input_data = torch.add(input_data,-0.1307)\n",
    "    input_data = torch.div(input_data,0.3081)\n",
    "    input_data = input_data.unsqueeze(1)\n",
    "    input_labels = train_dataset.targets\n",
    "    # define script parameters\n",
    "    script_params = {\n",
    "        '--epochs': 1,\n",
    "        '--batch-size': 64,\n",
    "        '--test-batch-size': 128,\n",
    "        '--lr': 0.05\n",
    "    }\n",
    "    # Make Network\n",
    "    model = Net()\n",
    "    # Create Estimator\n",
    "    estimator = Estimator(model=model, script_params=script_params)\n",
    "    # MPI RUN\n",
    "    estimator.fit(input_data, input_labels)"
   ]
  },
  {
   "cell_type": "code",
   "execution_count": null,
   "metadata": {},
   "outputs": [],
   "source": [
    "import subprocess\n",
    "print(subprocess.Popen('echo \"hi \\nhello\\n\"', shell=True,\n",
    "                       universal_newlines=True,\n",
    "                           stdout=subprocess.PIPE).communicate()[0])"
   ]
  },
  {
   "cell_type": "code",
   "execution_count": null,
   "metadata": {},
   "outputs": [],
   "source": [
    "print(subprocess.check_output(\"echo hi\", shell=True, universal_newlines=True), end=\"\")"
   ]
  },
  {
   "cell_type": "code",
   "execution_count": null,
   "metadata": {},
   "outputs": [],
   "source": [
    "import subprocess\n",
    "proc = subprocess.Popen(['python','printsomething.py'],\n",
    "                       universal_newlines=True,\n",
    "                           stdout=subprocess.PIPE)\n",
    "output = proc.communicate()\n",
    "print(output)\n",
    "print(output[0])"
   ]
  },
  {
   "cell_type": "code",
   "execution_count": 2,
   "metadata": {},
   "outputs": [
    {
     "data": {
      "text/plain": [
       "'sky'"
      ]
     },
     "execution_count": 2,
     "metadata": {},
     "output_type": "execute_result"
    }
   ],
   "source": [
    "import os\n",
    "import pwd\n",
    "pwd.getpwuid( os.getuid() ).pw_name"
   ]
  },
  {
   "cell_type": "code",
   "execution_count": 1,
   "metadata": {},
   "outputs": [],
   "source": [
    "from aistudio.executor import Executor\n",
    "import numpy as np\n",
    "\n",
    "input_data = np.random.rand(5)\n",
    "input_label = np.random.randint(5,size=5)"
   ]
  },
  {
   "cell_type": "code",
   "execution_count": 2,
   "metadata": {},
   "outputs": [
    {
     "data": {
      "text/plain": [
       "array([1, 3, 0, 4, 4])"
      ]
     },
     "execution_count": 2,
     "metadata": {},
     "output_type": "execute_result"
    }
   ],
   "source": [
    "input_label"
   ]
  },
  {
   "cell_type": "code",
   "execution_count": 3,
   "metadata": {},
   "outputs": [],
   "source": [
    "executor = Executor()"
   ]
  },
  {
   "cell_type": "code",
   "execution_count": 4,
   "metadata": {},
   "outputs": [
    {
     "name": "stdout",
     "output_type": "stream",
     "text": [
      "\n",
      "import pickle\n",
      "\n",
      "def load_data():\n",
      "    # load\n",
      "    with open('./train-data-job-1/data-labels.pkl', 'rb') as f:\n",
      "        data = pickle.load(f)\n",
      "    return data\n",
      "\n",
      "[]\n",
      "[0.90203061 0.52826741 0.71744131 0.84738503 0.45304013]\n",
      "[1 3 0 4 4]\n",
      "\n"
     ]
    }
   ],
   "source": [
    "executor.fit(input_data,input_label)"
   ]
  },
  {
   "cell_type": "markdown",
   "metadata": {},
   "source": [
    "### using ast"
   ]
  },
  {
   "cell_type": "code",
   "execution_count": 25,
   "metadata": {},
   "outputs": [],
   "source": [
    "import ast\n",
    "with open('./train_some.py') as f:\n",
    "    p = ast.parse(f.read())"
   ]
  },
  {
   "cell_type": "code",
   "execution_count": 28,
   "metadata": {},
   "outputs": [
    {
     "data": {
      "text/plain": [
       "\"Module(body=[If(test=Compare(left=Name(id='__name__', ctx=Load()), ops=[Eq()], comparators=[Str(s='__main__')]), body=[Expr(value=Call(func=Name(id='print', ctx=Load()), args=[Name(id='input_data', ctx=Load())], keywords=[])), Expr(value=Call(func=Name(id='print', ctx=Load()), args=[Name(id='input_labels', ctx=Load())], keywords=[]))], orelse=[])])\""
      ]
     },
     "execution_count": 28,
     "metadata": {},
     "output_type": "execute_result"
    }
   ],
   "source": [
    "ast.dump(p)"
   ]
  },
  {
   "cell_type": "code",
   "execution_count": 29,
   "metadata": {},
   "outputs": [
    {
     "name": "stdout",
     "output_type": "stream",
     "text": [
      "Writing ast-test.py\n"
     ]
    }
   ],
   "source": [
    "%%writefile ast-test.py\n",
    "\n",
    "input_data = np.random.rand(5)\n",
    "input_label = np.random.randint(5,size=5)"
   ]
  },
  {
   "cell_type": "code",
   "execution_count": 30,
   "metadata": {},
   "outputs": [
    {
     "data": {
      "text/plain": [
       "\"Module(body=[Assign(targets=[Name(id='input_data', ctx=Store())], value=Call(func=Attribute(value=Attribute(value=Name(id='np', ctx=Load()), attr='random', ctx=Load()), attr='rand', ctx=Load()), args=[Num(n=5)], keywords=[])), Assign(targets=[Name(id='input_label', ctx=Store())], value=Call(func=Attribute(value=Attribute(value=Name(id='np', ctx=Load()), attr='random', ctx=Load()), attr='randint', ctx=Load()), args=[Num(n=5)], keywords=[keyword(arg='size', value=Num(n=5))]))])\""
      ]
     },
     "execution_count": 30,
     "metadata": {},
     "output_type": "execute_result"
    }
   ],
   "source": [
    "import ast\n",
    "with open('./ast-test.py') as f:\n",
    "    p = ast.parse(f.read())\n",
    "ast.dump(p)"
   ]
  },
  {
   "cell_type": "code",
   "execution_count": 32,
   "metadata": {},
   "outputs": [
    {
     "data": {
      "text/plain": [
       "'Module(body=[Expr(value=List(elts=[Num(n=3), Num(n=3), Num(n=1), Num(n=4), Num(n=0)], ctx=Load()))])'"
      ]
     },
     "execution_count": 32,
     "metadata": {},
     "output_type": "execute_result"
    }
   ],
   "source": [
    "ast.dump(ast.parse('[3,3,1,4,0]'))"
   ]
  },
  {
   "cell_type": "code",
   "execution_count": 5,
   "metadata": {},
   "outputs": [],
   "source": [
    "str = \"hello\"\n",
    "with open('./test.txt','w') as f:\n",
    "    f.write(str)"
   ]
  },
  {
   "cell_type": "code",
   "execution_count": 5,
   "metadata": {},
   "outputs": [
    {
     "ename": "NameError",
     "evalue": "name 'pickle' is not defined",
     "output_type": "error",
     "traceback": [
      "\u001b[0;31m---------------------------------------------------------------------------\u001b[0m",
      "\u001b[0;31mNameError\u001b[0m                                 Traceback (most recent call last)",
      "\u001b[0;32m<ipython-input-5-d8d552d96ae0>\u001b[0m in \u001b[0;36m<module>\u001b[0;34m\u001b[0m\n\u001b[1;32m      1\u001b[0m \u001b[0;32mimport\u001b[0m \u001b[0mdataset1\u001b[0m\u001b[0;34m\u001b[0m\u001b[0;34m\u001b[0m\u001b[0m\n\u001b[1;32m      2\u001b[0m \u001b[0;34m\u001b[0m\u001b[0m\n\u001b[0;32m----> 3\u001b[0;31m \u001b[0mdata\u001b[0m \u001b[0;34m=\u001b[0m \u001b[0mdataset1\u001b[0m\u001b[0;34m.\u001b[0m\u001b[0mload_data\u001b[0m\u001b[0;34m(\u001b[0m\u001b[0;34m)\u001b[0m\u001b[0;34m\u001b[0m\u001b[0;34m\u001b[0m\u001b[0m\n\u001b[0m",
      "\u001b[0;32m~/dev/aistudio/dataset1.py\u001b[0m in \u001b[0;36mload_data\u001b[0;34m()\u001b[0m\n\u001b[1;32m      3\u001b[0m     \u001b[0;31m# load\u001b[0m\u001b[0;34m\u001b[0m\u001b[0;34m\u001b[0m\u001b[0;34m\u001b[0m\u001b[0m\n\u001b[1;32m      4\u001b[0m     \u001b[0;32mwith\u001b[0m \u001b[0mopen\u001b[0m\u001b[0;34m(\u001b[0m\u001b[0;34m'./train-data-job-1/data-labels.pkl'\u001b[0m\u001b[0;34m,\u001b[0m \u001b[0;34m'rb'\u001b[0m\u001b[0;34m)\u001b[0m \u001b[0;32mas\u001b[0m \u001b[0mf\u001b[0m\u001b[0;34m:\u001b[0m\u001b[0;34m\u001b[0m\u001b[0;34m\u001b[0m\u001b[0m\n\u001b[0;32m----> 5\u001b[0;31m         \u001b[0mdata\u001b[0m \u001b[0;34m=\u001b[0m \u001b[0mpickle\u001b[0m\u001b[0;34m.\u001b[0m\u001b[0mload\u001b[0m\u001b[0;34m(\u001b[0m\u001b[0mf\u001b[0m\u001b[0;34m)\u001b[0m\u001b[0;34m\u001b[0m\u001b[0;34m\u001b[0m\u001b[0m\n\u001b[0m\u001b[1;32m      6\u001b[0m     \u001b[0;32mreturn\u001b[0m \u001b[0mdata\u001b[0m\u001b[0;34m\u001b[0m\u001b[0;34m\u001b[0m\u001b[0m\n",
      "\u001b[0;31mNameError\u001b[0m: name 'pickle' is not defined"
     ]
    }
   ],
   "source": [
    "import dataset1\n",
    "\n",
    "data = dataset1.load_data()"
   ]
  },
  {
   "cell_type": "code",
   "execution_count": null,
   "metadata": {},
   "outputs": [],
   "source": []
  }
 ],
 "metadata": {
  "kernelspec": {
   "display_name": "Python 3",
   "language": "python",
   "name": "python3"
  },
  "language_info": {
   "codemirror_mode": {
    "name": "ipython",
    "version": 3
   },
   "file_extension": ".py",
   "mimetype": "text/x-python",
   "name": "python",
   "nbconvert_exporter": "python",
   "pygments_lexer": "ipython3",
   "version": "3.7.6"
  }
 },
 "nbformat": 4,
 "nbformat_minor": 4
}
