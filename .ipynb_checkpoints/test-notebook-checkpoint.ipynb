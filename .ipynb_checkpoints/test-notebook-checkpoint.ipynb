{
 "cells": [
  {
   "cell_type": "code",
   "execution_count": 1,
   "metadata": {},
   "outputs": [
    {
     "name": "stdout",
     "output_type": "stream",
     "text": [
      "Writing argjam.py\n"
     ]
    }
   ],
   "source": [
    "%%writefile argjam.py\n",
    "\n",
    "import argparse\n",
    "if __name__ == '__main__':\n",
    "    # Arguments Parsing\n",
    "    parser = argparse.ArgumentParser(description='Test ArgParser')\n",
    "    parser.add_argument('--test-arg1', type=int, default=1, metavar='N',\n",
    "                        help='input integer(default: 1)')\n",
    "    parser.add_argument('--test-arg2', type=int, default=2, metavar='N',\n",
    "                        help='input integer(default: 2)')\n",
    "    parser.add_argument('--test-arg3', type=int, metavar='N',\n",
    "                        help='input integer')\n",
    "    args = parser.parse_args()\n",
    "    \n",
    "    print(args.test_arg1)\n",
    "    print(args.test_arg2)\n",
    "    print(args.test_arg3)"
   ]
  },
  {
   "cell_type": "code",
   "execution_count": null,
   "metadata": {},
   "outputs": [],
   "source": []
  }
 ],
 "metadata": {
  "kernelspec": {
   "display_name": "Python 3",
   "language": "python",
   "name": "python3"
  },
  "language_info": {
   "codemirror_mode": {
    "name": "ipython",
    "version": 3
   },
   "file_extension": ".py",
   "mimetype": "text/x-python",
   "name": "python",
   "nbconvert_exporter": "python",
   "pygments_lexer": "ipython3",
   "version": "3.7.6"
  }
 },
 "nbformat": 4,
 "nbformat_minor": 4
}
