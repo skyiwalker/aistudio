{
 "cells": [
  {
   "cell_type": "code",
   "execution_count": 1,
   "metadata": {},
   "outputs": [],
   "source": [
    "import sys\n",
    "sys.path.append('../../')\n",
    "from sdrdev.aistudio.torchestimator import TorchEstimator"
   ]
  },
  {
   "cell_type": "code",
   "execution_count": 2,
   "metadata": {},
   "outputs": [],
   "source": [
    "script_params = {\n",
    "    'problem-type':'classification',\n",
    "    'nprocs':4, # 4 processors + GPU\n",
    "    'debug':True\n",
    "}"
   ]
  },
  {
   "cell_type": "code",
   "execution_count": 3,
   "metadata": {},
   "outputs": [
    {
     "name": "stdout",
     "output_type": "stream",
     "text": [
      "Notebook Path:  /home/sky/workspace/new-ws1\n",
      "Workspace path was found.\n",
      "Job Path:  /home/sky/workspace/new-ws1/job\n",
      "['--problem-type', 'classification', '--nprocs', '4', '--debug']\n",
      "Warning: A neural network definition was not found.\n",
      "Warning: A dataset loader definition was not found.\n"
     ]
    }
   ],
   "source": [
    "estimator = TorchEstimator(script_params=script_params)"
   ]
  },
  {
   "cell_type": "code",
   "execution_count": 4,
   "metadata": {},
   "outputs": [
    {
     "name": "stdout",
     "output_type": "stream",
     "text": [
      "{'screenName': 'sky', 'title': 'MNIST_Horovod_Tutorial_Script', 'targetType': '81', 'workspaceName': 'new-ws1', 'location': '/EDISON/SCIDATA/sdr/draft/sky/workspace/new-ws1/job/job-20201130045406'}\n",
      "Job ID-8425 was submitted.\n",
      "Job was generated in database.\n",
      "Job Requested to Portal.\n",
      "{'screenName': 'sky', 'location': '/EDISON/SCIDATA/sdr/draft/sky/workspace/new-ws1/job/job-20201130045406'}\n",
      "Running Slurm script...\n",
      "Batch job ID-6662 is running on the HPC.\n",
      "Job status(RUNNING) has been updated.\n"
     ]
    }
   ],
   "source": [
    "estimator.submit(\"./train_hvd.py\",job_title=\"MNIST Horovod Tutorial Script\")"
   ]
  },
  {
   "cell_type": "code",
   "execution_count": 5,
   "metadata": {},
   "outputs": [
    {
     "name": "stdout",
     "output_type": "stream",
     "text": [
      "Getting Status of Requested Job on the Portal.\n",
      "--------------------------------\n",
      "Job ID: 8425\n",
      "Job Title: MNIST_Horovod_Tutorial_Script\n",
      "Job Directory: /home/sky/workspace/new-ws1/job/job-20201130045406\n",
      "Start Date: 2020-11-30 13:57:05\n",
      "End Date: \n",
      "--------------------------------\n",
      "Status: RUNNING\n"
     ]
    }
   ],
   "source": [
    "estimator.status()"
   ]
  },
  {
   "cell_type": "code",
   "execution_count": null,
   "metadata": {},
   "outputs": [],
   "source": []
  }
 ],
 "metadata": {
  "kernelspec": {
   "display_name": "Python 3",
   "language": "python",
   "name": "python3"
  },
  "language_info": {
   "codemirror_mode": {
    "name": "ipython",
    "version": 3
   },
   "file_extension": ".py",
   "mimetype": "text/x-python",
   "name": "python",
   "nbconvert_exporter": "python",
   "pygments_lexer": "ipython3",
   "version": "3.7.6"
  }
 },
 "nbformat": 4,
 "nbformat_minor": 4
}
