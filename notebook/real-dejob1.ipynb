{
 "cells": [
  {
   "cell_type": "code",
   "execution_count": 1,
   "metadata": {},
   "outputs": [],
   "source": [
    "import os\n",
    "import json\n",
    "\n",
    "def _process_input(location):\n",
    "    if os.path.exists(os.path.join(location, 'md.json')) == False:\n",
    "        print(\"md.json file does not exist\", file=sys.stderr)\n",
    "        exit(1)\n",
    "\n",
    "    with open(os.path.join(location, 'md.json') , 'r', encoding='utf-8' ) as f :\n",
    "        jd = json.load(f)\n",
    "\n",
    "    ret = {}\n",
    "    for (k, v) in jd.items() :\n",
    "        if k in ['material', 'nsites', 'volume', 'nelements', 'mass', 'density'] :\n",
    "            ret[k] = v\n",
    "    return ret"
   ]
  },
  {
   "cell_type": "code",
   "execution_count": 2,
   "metadata": {},
   "outputs": [],
   "source": [
    "##* Cell 3\n",
    "'''\n",
    "This function extracts feature data for artificial intelligence analysis from simulation output data.\n",
    "    @ param location: location of the directory where the output files are located (String)\n",
    "    @ return feature: Feature Data (Dictionary)\n",
    "'''\n",
    "\n",
    "def _process_result(location):\n",
    "    with open(os.path.join(location, 'md.json') , 'r', encoding='utf-8' ) as f :\n",
    "        jd = json.load(f)\n",
    "\n",
    "    ret = {}\n",
    "    for (k, v) in jd.items() :\n",
    "        if k in ['finalenergyperatom'] :\n",
    "            ret[k] = v\n",
    "    return ret"
   ]
  },
  {
   "cell_type": "code",
   "execution_count": 3,
   "metadata": {},
   "outputs": [],
   "source": [
    "import sys\n",
    "sys.path.append('../../')\n",
    "from sdrdev.aistudio.dataengineering import DataEngineering"
   ]
  },
  {
   "cell_type": "code",
   "execution_count": 4,
   "metadata": {},
   "outputs": [],
   "source": [
    "script_params = {\n",
    "    'nprocs':16,\n",
    "    'data_dir':'./dataset/m0'    \n",
    "}"
   ]
  },
  {
   "cell_type": "code",
   "execution_count": 5,
   "metadata": {},
   "outputs": [
    {
     "name": "stdout",
     "output_type": "stream",
     "text": [
      "Workspace path was found.\n",
      "A _process_input definition has been found.\n",
      "A _process_result definition has been found.\n"
     ]
    }
   ],
   "source": [
    "dejob = DataEngineering(script_params=script_params)"
   ]
  },
  {
   "cell_type": "code",
   "execution_count": 6,
   "metadata": {},
   "outputs": [
    {
     "name": "stdout",
     "output_type": "stream",
     "text": [
      "Job ID-8427 was submitted.\n",
      "Job was generated in database.\n",
      "Job Requested to Portal.\n",
      "Running Slurm script...\n",
      "Batch job ID-6664 is running on the HPC.\n"
     ]
    }
   ],
   "source": [
    "dejob.submit(job_title=\"de-test\")"
   ]
  },
  {
   "cell_type": "code",
   "execution_count": 7,
   "metadata": {},
   "outputs": [
    {
     "name": "stdout",
     "output_type": "stream",
     "text": [
      "Getting Status of Requested Job on the Portal.\n",
      "--------------------------------\n",
      "Job ID: 8427\n",
      "Job Title: de-test\n",
      "Job Directory: /home/sky/workspace/new-ws1/job/de-20201130045428\n",
      "Start Date: 2020-11-30 13:57:28\n",
      "End Date: \n",
      "--------------------------------\n",
      "Status: RUNNING\n"
     ]
    }
   ],
   "source": [
    "dejob.status()"
   ]
  },
  {
   "cell_type": "code",
   "execution_count": null,
   "metadata": {},
   "outputs": [],
   "source": [
    "dejob.cancel()"
   ]
  },
  {
   "cell_type": "code",
   "execution_count": null,
   "metadata": {},
   "outputs": [],
   "source": []
  }
 ],
 "metadata": {
  "kernelspec": {
   "display_name": "Python 3",
   "language": "python",
   "name": "python3"
  },
  "language_info": {
   "codemirror_mode": {
    "name": "ipython",
    "version": 3
   },
   "file_extension": ".py",
   "mimetype": "text/x-python",
   "name": "python",
   "nbconvert_exporter": "python",
   "pygments_lexer": "ipython3",
   "version": "3.7.6"
  }
 },
 "nbformat": 4,
 "nbformat_minor": 4
}
