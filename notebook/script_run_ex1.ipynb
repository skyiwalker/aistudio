{
 "cells": [
  {
   "cell_type": "code",
   "execution_count": 1,
   "metadata": {},
   "outputs": [],
   "source": [
    "import sys\n",
    "sys.path.append('../../')\n",
    "from sdrdev.aistudio.torchestimator import TorchEstimator"
   ]
  },
  {
   "cell_type": "code",
   "execution_count": 2,
   "metadata": {},
   "outputs": [],
   "source": [
    "script_params = {\n",
    "    'nprocs':1, # single processor\n",
    "    'no-cuda':True\n",
    "}"
   ]
  },
  {
   "cell_type": "code",
   "execution_count": 3,
   "metadata": {},
   "outputs": [
    {
     "name": "stdout",
     "output_type": "stream",
     "text": [
      "Workspace path was found.\n",
      "Warning: A neural network definition was not found.\n",
      "Warning: A dataset loader definition was not found.\n"
     ]
    }
   ],
   "source": [
    "estimator = TorchEstimator(script_params=script_params)"
   ]
  },
  {
   "cell_type": "code",
   "execution_count": 4,
   "metadata": {},
   "outputs": [
    {
     "name": "stdout",
     "output_type": "stream",
     "text": [
      "Job ID-8426 was submitted.\n",
      "Job was generated in database.\n",
      "Job Requested to Portal.\n",
      "Running Slurm script...\n",
      "Batch job ID-6663 is running on the HPC.\n"
     ]
    }
   ],
   "source": [
    "# No Job Title - Default Job Title Test\n",
    "estimator.submit(\"./test.py\")"
   ]
  },
  {
   "cell_type": "code",
   "execution_count": 5,
   "metadata": {},
   "outputs": [
    {
     "name": "stdout",
     "output_type": "stream",
     "text": [
      "Getting Status of Requested Job on the Portal.\n",
      "--------------------------------\n",
      "Job ID: 8426\n",
      "Job Title: job-20201130045416\n",
      "Job Directory: /home/sky/workspace/new-ws1/job/job-20201130045416\n",
      "Start Date: 2020-11-30 13:57:16\n",
      "End Date: \n",
      "--------------------------------\n",
      "Status: RUNNING\n"
     ]
    }
   ],
   "source": [
    "estimator.status()"
   ]
  },
  {
   "cell_type": "code",
   "execution_count": null,
   "metadata": {},
   "outputs": [],
   "source": []
  }
 ],
 "metadata": {
  "kernelspec": {
   "display_name": "Python 3",
   "language": "python",
   "name": "python3"
  },
  "language_info": {
   "codemirror_mode": {
    "name": "ipython",
    "version": 3
   },
   "file_extension": ".py",
   "mimetype": "text/x-python",
   "name": "python",
   "nbconvert_exporter": "python",
   "pygments_lexer": "ipython3",
   "version": "3.7.6"
  }
 },
 "nbformat": 4,
 "nbformat_minor": 4
}
