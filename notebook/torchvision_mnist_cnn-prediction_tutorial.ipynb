{
 "cells": [
  {
   "cell_type": "markdown",
   "metadata": {},
   "source": [
    "<div class=\"alert alert-block alert-info\">    \n",
    "    <p>In the code below, the model created in the training before and the name of the model are used.</p>\n",
    "</div>"
   ]
  },
  {
   "cell_type": "markdown",
   "metadata": {},
   "source": [
    "# Prediction by a trained model"
   ]
  },
  {
   "cell_type": "markdown",
   "metadata": {},
   "source": [
    "### If you only want to use trained model and predict, let's do this below."
   ]
  },
  {
   "cell_type": "code",
   "execution_count": 1,
   "metadata": {},
   "outputs": [],
   "source": [
    "import sys\n",
    "sys.path.append('../../')"
   ]
  },
  {
   "cell_type": "code",
   "execution_count": 2,
   "metadata": {},
   "outputs": [],
   "source": [
    "from sdrdev.aistudio.torchestimator import TorchEstimator"
   ]
  },
  {
   "cell_type": "code",
   "execution_count": 3,
   "metadata": {},
   "outputs": [],
   "source": [
    "script_params = {\n",
    "    'epochs':5,\n",
    "    'batch-size':64,\n",
    "    'test-batch-size':128,\n",
    "    'lr':0.01,\n",
    "    'momentum':0.5,\n",
    "    'seed':42,\n",
    "    'log-interval':10,    \n",
    "    'nprocs':2,    \n",
    "    'loss':'nll_loss',\n",
    "    'optimizer':'SGD',\n",
    "    'validation': True,\n",
    "    'debug': True    \n",
    "}"
   ]
  },
  {
   "cell_type": "code",
   "execution_count": 4,
   "metadata": {},
   "outputs": [
    {
     "name": "stdout",
     "output_type": "stream",
     "text": [
      "Notebook Path:  /home/sky/workspace/new-ws1\n",
      "Workspace path was found.\n",
      "Job Path:  /home/sky/workspace/new-ws1/job\n",
      "['--epochs', '5', '--batch-size', '64', '--test-batch-size', '128', '--lr', '0.01', '--momentum', '0.5', '--seed', '42', '--log-interval', '10', '--nprocs', '2', '--loss', 'nll_loss', '--optimizer', 'SGD', '--validation', '--debug', '--model-path', '/home/sky/workspace/new-ws1/model/mnist-tutorial-model']\n",
      "A dataset loader definition has been found.\n",
      "Warning: A neural network definition was not found.\n"
     ]
    }
   ],
   "source": [
    "trained_model_name = \"mnist-tutorial-model\"\n",
    "estimator = TorchEstimator(model_name=trained_model_name,script_params=script_params)"
   ]
  },
  {
   "cell_type": "markdown",
   "metadata": {},
   "source": [
    "### Prepare test dataset"
   ]
  },
  {
   "cell_type": "code",
   "execution_count": 5,
   "metadata": {},
   "outputs": [],
   "source": [
    "from torchvision import datasets, transforms\n",
    "import os\n",
    "\n",
    "class DatasetLoader:    \n",
    "    def __init__(self,dataset_path=\"./\"):\n",
    "        ########## WRITE DATASET LOADER CODE HERE ##########\n",
    "        data_dir = os.path.join(dataset_path,\"Torchvision_MNIST\")\n",
    "        mnist_transform=transforms.Compose([\n",
    "                                   transforms.ToTensor(),\n",
    "                                   transforms.Normalize((0.1307,), (0.3081,))])        \n",
    "        test_dataset  = datasets.MNIST(data_dir, transform=mnist_transform, train=False, download=True)\n",
    "        \n",
    "        ### train_ds and valid_ds MUST BE TensorDataset(or ImageFolder or Torch Dataset Format)\n",
    "#         self.train_dataset = train_dataset\n",
    "#         self.valid_dataset = test_dataset\n",
    "        self.test_dataset = test_dataset\n",
    "        ####################################################\n",
    "    \n",
    "    def get_train_dataset(self, validation=True):        \n",
    "        if validation is True:\n",
    "            return self.train_dataset, self.valid_dataset\n",
    "        else:\n",
    "            return self.train_dataset\n",
    "    \n",
    "    def get_test_dataset(self):\n",
    "        return self.test_dataset"
   ]
  },
  {
   "cell_type": "code",
   "execution_count": 6,
   "metadata": {},
   "outputs": [
    {
     "name": "stdout",
     "output_type": "stream",
     "text": [
      "{'screenName': 'sky', 'title': 'job-20201202064706', 'targetType': '81', 'workspaceName': 'new-ws1', 'location': '/EDISON/SCIDATA/sdr/draft/sky/workspace/new-ws1/job/job-20201202064706'}\n",
      "Job ID-8926 was submitted.\n",
      "Job was generated in database.\n",
      "Job Requested to Portal.\n",
      "{'screenName': 'sky', 'location': '/EDISON/SCIDATA/sdr/draft/sky/workspace/new-ws1/job/job-20201202064706'}\n",
      "Running Slurm script...\n",
      "Batch job ID-6735 is running on the HPC.\n"
     ]
    }
   ],
   "source": [
    "estimator.predict()"
   ]
  },
  {
   "cell_type": "code",
   "execution_count": 7,
   "metadata": {},
   "outputs": [
    {
     "name": "stdout",
     "output_type": "stream",
     "text": [
      "Getting Status of Requested Job on the Portal.\n",
      "--------------------------------\n",
      "Job ID: 8926\n",
      "Job Title: job-20201202064706\n",
      "Job Directory: /home/sky/workspace/new-ws1/job/job-20201202064706\n",
      "Start Date: 2020-12-02 15:50:05\n",
      "End Date: \n",
      "--------------------------------\n",
      "Status: PENDING\n"
     ]
    }
   ],
   "source": [
    "estimator.status()"
   ]
  },
  {
   "cell_type": "code",
   "execution_count": 8,
   "metadata": {},
   "outputs": [
    {
     "name": "stdout",
     "output_type": "stream",
     "text": [
      "Prediction has not been completed.\n",
      "Please execute the command again after a while.\n"
     ]
    }
   ],
   "source": [
    "estimator.report()"
   ]
  },
  {
   "cell_type": "code",
   "execution_count": null,
   "metadata": {},
   "outputs": [],
   "source": []
  }
 ],
 "metadata": {
  "kernelspec": {
   "display_name": "Python 3",
   "language": "python",
   "name": "python3"
  },
  "language_info": {
   "codemirror_mode": {
    "name": "ipython",
    "version": 3
   },
   "file_extension": ".py",
   "mimetype": "text/x-python",
   "name": "python",
   "nbconvert_exporter": "python",
   "pygments_lexer": "ipython3",
   "version": "3.7.6"
  }
 },
 "nbformat": 4,
 "nbformat_minor": 4
}
