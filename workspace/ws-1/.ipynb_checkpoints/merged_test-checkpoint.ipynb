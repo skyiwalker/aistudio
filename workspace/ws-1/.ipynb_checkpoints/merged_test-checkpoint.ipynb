{
 "cells": [
  {
   "cell_type": "code",
   "execution_count": null,
   "metadata": {},
   "outputs": [],
   "source": [
    "import torch\n",
    "import torch.nn as nn\n",
    "from torch.autograd import Variable\n"
   ]
  },
  {
   "cell_type": "code",
   "execution_count": null,
   "metadata": {},
   "outputs": [],
   "source": [
    "class Net(nn.Module):\n",
    "    def __init__(self):\n",
    "        super(Net, self).__init__()\n",
    "        self.net_layers = nn.Sequential(\n",
    "            nn.Conv2d(3, 64, kernel_size=(3, 3), padding=(1, 1)),\n",
    "            nn.BatchNorm2d(64, momentum=0.9),\n",
    "            nn.ReLU(inplace=True),\n",
    "            nn.MaxPool2d((2, 2), stride=(2, 2)),\n",
    "            nn.Conv2d(64, 128, kernel_size=(3, 3), padding=(1, 1)),\n",
    "            nn.BatchNorm2d(128, momentum=0.9),\n",
    "            nn.ReLU(inplace=True),\n",
    "            nn.MaxPool2d((2, 2), stride=(2, 2)),\n",
    "            nn.Conv2d(128, 256, kernel_size=(3, 3), padding=(1, 1)),\n",
    "            nn.BatchNorm2d(256, momentum=0.9),\n",
    "            nn.ReLU(inplace=True),\n",
    "            nn.Conv2d(256, 256, kernel_size=(3, 3), padding=(1, 1)),\n",
    "            nn.BatchNorm2d(256, eps=1e-05, momentum=0.9),\n",
    "            nn.ReLU(inplace=True),\n",
    "            nn.MaxPool2d((2, 2), stride=(2, 2)),\n",
    "            nn.Conv2d(256, 512, kernel_size=(3, 3), padding=(1, 1)),\n",
    "            nn.BatchNorm2d(512, momentum=0.9),\n",
    "            nn.ReLU(inplace=True),\n",
    "            nn.Conv2d(512, 512, kernel_size=(3, 3), padding=(1, 1)),\n",
    "            nn.BatchNorm2d(512, momentum=0.9),\n",
    "            nn.ReLU(inplace=True),\n",
    "            nn.MaxPool2d((2, 2), stride=(2, 2)),\n",
    "            nn.Conv2d(512, 512, kernel_size=(3, 3), padding=(1, 1)),\n",
    "            nn.BatchNorm2d(512, momentum=0.9),\n",
    "            nn.ReLU(inplace=True),\n",
    "            nn.Conv2d(512, 512, kernel_size=(3, 3), padding=(1, 1)),\n",
    "            nn.BatchNorm2d(512, momentum=0.9),\n",
    "            nn.ReLU(inplace=True),\n",
    "            nn.MaxPool2d((2, 2), stride=(2, 2)),\n",
    "            nn.AvgPool2d((1, 1), stride=(1, 1)),\n",
    "        )\n",
    "        self.linear_layers = nn.Sequential(nn.Linear(512, 10))\n",
    "\n",
    "    def forward(self, x):\n",
    "        x = self.net_layers(x)\n",
    "        x = x.view(x.size(0), -1)\n",
    "        x = self.linear_layers(x)\n",
    "        return x"
   ]
  },
  {
   "cell_type": "code",
   "execution_count": null,
   "metadata": {},
   "outputs": [],
   "source": [
    "\n",
    "output_onnx_model = \"vgg11_model.onnx\"\n",
    "torch_model = Net()\n",
    "torch_model.eval()\n",
    "\n",
    "dummy_model_input = Variable(torch.randn(2, 3, 32, 32))\n",
    "\n",
    "model = torch_model\n",
    "model.eval()\n",
    "\n",
    "torch.onnx.export(model, dummy_model_input, output_onnx_model)\n",
    "# def test():\n",
    "#     net = Net()\n",
    "#     x = torch.randn(2, 3, 32, 32)\n",
    "#     y = net(x)\n",
    "#     print(y.size())\n",
    "\n",
    "\n",
    "# test()"
   ]
  }
 ],
 "metadata": {
  "anaconda-cloud": {},
  "kernelspec": {
   "display_name": "Python 3",
   "language": "python",
   "name": "python3"
  },
  "language_info": {
   "codemirror_mode": {
    "name": "ipython",
    "version": 3
   },
   "file_extension": ".py",
   "mimetype": "text/x-python",
   "name": "python",
   "nbconvert_exporter": "python",
   "pygments_lexer": "ipython3",
   "version": "3.6.1"
  }
 },
 "nbformat": 4,
 "nbformat_minor": 4
}
