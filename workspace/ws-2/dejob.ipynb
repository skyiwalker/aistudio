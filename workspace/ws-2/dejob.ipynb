{
 "cells": [
  {
   "cell_type": "code",
   "execution_count": null,
   "metadata": {},
   "outputs": [],
   "source": [
    "def _process_input(location):\n",
    "\n",
    "    feature_List = {}\n",
    "\n",
    "    with open(location + \"/data.txt\", 'r') as fd:\n",
    "        lines = fd.readlines()\n",
    "        namedata = []\n",
    "        agedata = []\n",
    "        for line in lines:\n",
    "            data = line.strip().split(',')\n",
    "            namedata.append(data[0])\n",
    "            agedata.append(data[1])\n",
    "        feature_List['name'] = namedata\n",
    "        feature_List['age'] = agedata  \n",
    "\n",
    "    return feature_List"
   ]
  },
  {
   "cell_type": "code",
   "execution_count": null,
   "metadata": {},
   "outputs": [],
   "source": [
    "##* Cell 3\n",
    "'''\n",
    "This function extracts feature data for artificial intelligence analysis from simulation output data.\n",
    "    @ param location: location of the directory where the output files are located (String)\n",
    "    @ return feature: Feature Data (Dictionary)\n",
    "'''\n",
    "\n",
    "def _process_result(location):\n",
    "    feature_List = {}\n",
    "    with open(location + \"/label.txt\", 'r') as fd:\n",
    "        lines = fd.readlines()\n",
    "        labels = []        \n",
    "        for line in lines:            \n",
    "            labels.append(line)\n",
    "        feature_List['labels'] = labels\n",
    "\n",
    "    return feature_List"
   ]
  },
  {
   "cell_type": "markdown",
   "metadata": {},
   "source": [
    "import sdr.aistudio.dataengineering as de\n",
    "\n",
    "(x) de.submit(data_path=\"./dataset/detest\") <br>\n",
    "(o) de.submit()"
   ]
  },
  {
   "cell_type": "markdown",
   "metadata": {},
   "source": [
    "1) make de-run.py to execute _process_input and _process_result"
   ]
  },
  {
   "cell_type": "code",
   "execution_count": null,
   "metadata": {},
   "outputs": [],
   "source": [
    "import sys\n",
    "sys.path.append('../../')\n",
    "from sdrdev.aistudio.dataengineering import DataEngineering"
   ]
  },
  {
   "cell_type": "code",
   "execution_count": null,
   "metadata": {},
   "outputs": [],
   "source": [
    "script_params = {\n",
    "    'nprocs':2,\n",
    "    'data_dir':'./dataset/testset',    \n",
    "    'debug': True    \n",
    "}"
   ]
  },
  {
   "cell_type": "code",
   "execution_count": null,
   "metadata": {},
   "outputs": [],
   "source": [
    "dejob = DataEngineering(script_params=script_params)"
   ]
  },
  {
   "cell_type": "code",
   "execution_count": null,
   "metadata": {},
   "outputs": [],
   "source": [
    "dejob.submit()"
   ]
  },
  {
   "cell_type": "code",
   "execution_count": null,
   "metadata": {},
   "outputs": [],
   "source": [
    "dejob.status()"
   ]
  },
  {
   "cell_type": "code",
   "execution_count": null,
   "metadata": {},
   "outputs": [],
   "source": [
    "dejob.cancle()"
   ]
  },
  {
   "cell_type": "code",
   "execution_count": null,
   "metadata": {},
   "outputs": [],
   "source": []
  }
 ],
 "metadata": {
  "kernelspec": {
   "display_name": "Python 3",
   "language": "python",
   "name": "python3"
  },
  "language_info": {
   "codemirror_mode": {
    "name": "ipython",
    "version": 3
   },
   "file_extension": ".py",
   "mimetype": "text/x-python",
   "name": "python",
   "nbconvert_exporter": "python",
   "pygments_lexer": "ipython3",
   "version": "3.7.6"
  }
 },
 "nbformat": 4,
 "nbformat_minor": 4
}
