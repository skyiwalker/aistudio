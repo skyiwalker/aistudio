{
 "cells": [
  {
   "cell_type": "markdown",
   "metadata": {},
   "source": [
    "## start template code"
   ]
  },
  {
   "cell_type": "markdown",
   "metadata": {},
   "source": [
    "# MNIST DataSet\n",
    "dataset download(.gz file) by request"
   ]
  },
  {
   "cell_type": "markdown",
   "metadata": {},
   "source": [
    "## 1-1. MNIST Dataset with file(flattened)"
   ]
  },
  {
   "cell_type": "code",
   "execution_count": 1,
   "metadata": {},
   "outputs": [],
   "source": [
    "from pathlib import Path\n",
    "import requests\n",
    "\n",
    "DATA_PATH = Path(\"data\")\n",
    "PATH = DATA_PATH / \"mnist\"\n",
    "\n",
    "PATH.mkdir(parents=True, exist_ok=True)\n",
    "\n",
    "URL = \"http://deeplearning.net/data/mnist/\"\n",
    "FILENAME = \"mnist.pkl.gz\"\n",
    "\n",
    "if not (PATH / FILENAME).exists():\n",
    "        content = requests.get(URL + FILENAME).content\n",
    "        (PATH / FILENAME).open(\"wb\").write(content)"
   ]
  },
  {
   "cell_type": "markdown",
   "metadata": {},
   "source": [
    "assign MNIST numpy array dataset using `pickle` library"
   ]
  },
  {
   "cell_type": "code",
   "execution_count": 2,
   "metadata": {},
   "outputs": [],
   "source": [
    "import pickle\n",
    "import gzip\n",
    "\n",
    "with gzip.open((PATH / FILENAME).as_posix(), \"rb\") as f:\n",
    "        ((x_train, y_train), (x_valid, y_valid), _) = pickle.load(f, encoding=\"latin-1\")"
   ]
  },
  {
   "cell_type": "markdown",
   "metadata": {},
   "source": [
    "Each image is 28 x 28, and is being stored as a flattened row of length\n",
    "784 (=28x28). Let's take a look at one; we need to reshape it to 2d\n",
    "first."
   ]
  },
  {
   "cell_type": "code",
   "execution_count": 3,
   "metadata": {},
   "outputs": [
    {
     "name": "stdout",
     "output_type": "stream",
     "text": [
      "(50000, 784)\n"
     ]
    },
    {
     "data": {
      "image/png": "[encoded data removed]",
      "text/plain": [
       "<Figure size 432x288 with 1 Axes>"
      ]
     },
     "metadata": {
      "needs_background": "light"
     },
     "output_type": "display_data"
    }
   ],
   "source": [
    "from matplotlib import pyplot\n",
    "import numpy as np\n",
    "\n",
    "pyplot.imshow(x_train[0].reshape((28, 28)), cmap=\"gray\")\n",
    "print(x_train.shape)"
   ]
  },
  {
   "cell_type": "markdown",
   "metadata": {},
   "source": [
    "good to see the first MNIST hand written data"
   ]
  },
  {
   "cell_type": "markdown",
   "metadata": {},
   "source": [
    "PyTorch uses ``torch.tensor``, rather than numpy arrays, so we need to\n",
    "convert our data.\n",
    "\n"
   ]
  },
  {
   "cell_type": "code",
   "execution_count": 4,
   "metadata": {},
   "outputs": [],
   "source": [
    "import torch\n",
    "\n",
    "x_train, y_train, x_valid, y_valid = map(\n",
    "    torch.tensor, (x_train, y_train, x_valid, y_valid)\n",
    ")\n",
    "n, c = x_train.shape"
   ]
  },
  {
   "cell_type": "markdown",
   "metadata": {},
   "source": [
    "print to verify Pytorch Tensors"
   ]
  },
  {
   "cell_type": "code",
   "execution_count": 5,
   "metadata": {},
   "outputs": [
    {
     "name": "stdout",
     "output_type": "stream",
     "text": [
      "torch.Size([50000, 784])\n",
      "tensor(0) tensor(9)\n"
     ]
    }
   ],
   "source": [
    "print(x_train.shape)\n",
    "print(y_train.min(), y_train.max())"
   ]
  },
  {
   "cell_type": "markdown",
   "metadata": {},
   "source": [
    "### use DataLoader and TensorDataset"
   ]
  },
  {
   "cell_type": "code",
   "execution_count": 6,
   "metadata": {},
   "outputs": [],
   "source": [
    "from torch.utils.data import TensorDataset\n",
    "from torch.utils.data import DataLoader\n",
    "\n",
    "def get_data(train_ds, valid_ds, bs):\n",
    "    return (\n",
    "        DataLoader(train_ds, batch_size=bs, shuffle=True),\n",
    "        DataLoader(valid_ds, batch_size=bs * 2),\n",
    "    )\n",
    "\n",
    "train_ds = TensorDataset(x_train, y_train)\n",
    "valid_ds = TensorDataset(x_valid, y_valid)"
   ]
  },
  {
   "cell_type": "markdown",
   "metadata": {},
   "source": [
    "## 1-2. Alternative Method to get MNIST Dataset"
   ]
  },
  {
   "cell_type": "code",
   "execution_count": 7,
   "metadata": {},
   "outputs": [
    {
     "name": "stdout",
     "output_type": "stream",
     "text": [
      "Downloading http://yann.lecun.com/exdb/mnist/train-images-idx3-ubyte.gz to test-data/MNIST/raw/train-images-idx3-ubyte.gz\n"
     ]
    },
    {
     "name": "stderr",
     "output_type": "stream",
     "text": [
      "100.1%"
     ]
    },
    {
     "name": "stdout",
     "output_type": "stream",
     "text": [
      "Extracting test-data/MNIST/raw/train-images-idx3-ubyte.gz to test-data/MNIST/raw\n",
      "Downloading http://yann.lecun.com/exdb/mnist/train-labels-idx1-ubyte.gz to test-data/MNIST/raw/train-labels-idx1-ubyte.gz\n"
     ]
    },
    {
     "name": "stderr",
     "output_type": "stream",
     "text": [
      "113.5%"
     ]
    },
    {
     "name": "stdout",
     "output_type": "stream",
     "text": [
      "Extracting test-data/MNIST/raw/train-labels-idx1-ubyte.gz to test-data/MNIST/raw\n",
      "Downloading http://yann.lecun.com/exdb/mnist/t10k-images-idx3-ubyte.gz to test-data/MNIST/raw/t10k-images-idx3-ubyte.gz\n"
     ]
    },
    {
     "name": "stderr",
     "output_type": "stream",
     "text": [
      "100.4%"
     ]
    },
    {
     "name": "stdout",
     "output_type": "stream",
     "text": [
      "Extracting test-data/MNIST/raw/t10k-images-idx3-ubyte.gz to test-data/MNIST/raw\n",
      "Downloading http://yann.lecun.com/exdb/mnist/t10k-labels-idx1-ubyte.gz to test-data/MNIST/raw/t10k-labels-idx1-ubyte.gz\n"
     ]
    },
    {
     "name": "stderr",
     "output_type": "stream",
     "text": [
      "180.4%"
     ]
    },
    {
     "name": "stdout",
     "output_type": "stream",
     "text": [
      "Extracting test-data/MNIST/raw/t10k-labels-idx1-ubyte.gz to test-data/MNIST/raw\n",
      "Processing...\n",
      "Done!\n"
     ]
    },
    {
     "name": "stderr",
     "output_type": "stream",
     "text": [
      "/opt/conda/conda-bld/pytorch_1587428266983/work/torch/csrc/utils/tensor_numpy.cpp:141: UserWarning: The given NumPy array is not writeable, and PyTorch does not support non-writeable tensors. This means you can write to the underlying (supposedly non-writeable) NumPy array using the tensor. You may want to copy the array to protect its data or make it writeable before converting it to a tensor. This type of warning will be suppressed for the rest of this program.\n"
     ]
    }
   ],
   "source": [
    "from torchvision import datasets, transforms\n",
    "download_root = 'test-data'\n",
    "mnist_transform=transforms.Compose([\n",
    "                           transforms.ToTensor(),\n",
    "                           transforms.Normalize((0.1307,), (0.3081,))])\n",
    "train_dataset = datasets.MNIST(download_root, transform=mnist_transform, train=True,  download=True)\n",
    "test_dataset  = datasets.MNIST(download_root, transform=mnist_transform, train=False, download=True)"
   ]
  },
  {
   "cell_type": "markdown",
   "metadata": {},
   "source": [
    "### check the dataset"
   ]
  },
  {
   "cell_type": "code",
   "execution_count": 8,
   "metadata": {},
   "outputs": [
    {
     "name": "stdout",
     "output_type": "stream",
     "text": [
      "torch.Size([60000, 28, 28])\n",
      "tensor(0) tensor(9)\n"
     ]
    },
    {
     "name": "stderr",
     "output_type": "stream",
     "text": [
      "/home/sky/anaconda3/envs/ai/lib/python3.7/site-packages/torchvision/datasets/mnist.py:55: UserWarning: train_data has been renamed data\n",
      "  warnings.warn(\"train_data has been renamed data\")\n",
      "/home/sky/anaconda3/envs/ai/lib/python3.7/site-packages/torchvision/datasets/mnist.py:45: UserWarning: train_labels has been renamed targets\n",
      "  warnings.warn(\"train_labels has been renamed targets\")\n"
     ]
    }
   ],
   "source": [
    "x_train2 = train_dataset.train_data\n",
    "y_train2 = train_dataset.train_labels\n",
    "print(x_train2.shape)\n",
    "print(y_train2.min(), y_train2.max())"
   ]
  },
  {
   "cell_type": "code",
   "execution_count": 9,
   "metadata": {},
   "outputs": [
    {
     "data": {
      "text/plain": [
       "<matplotlib.image.AxesImage at 0x7f9294a472d0>"
      ]
     },
     "execution_count": 9,
     "metadata": {},
     "output_type": "execute_result"
    },
    {
     "data": {
      "image/png": "[encoded data removed]",
      "text/plain": [
       "<Figure size 432x288 with 1 Axes>"
      ]
     },
     "metadata": {
      "needs_background": "light"
     },
     "output_type": "display_data"
    }
   ],
   "source": [
    "from matplotlib import pyplot\n",
    "import numpy as np\n",
    "\n",
    "pyplot.imshow(x_train2[1], cmap=\"gray\")"
   ]
  },
  {
   "cell_type": "code",
   "execution_count": 10,
   "metadata": {},
   "outputs": [],
   "source": [
    "from torch.utils.data import DataLoader\n",
    "batch_size = 64\n",
    "train_loader = DataLoader(dataset=train_dataset,\n",
    "                         batch_size=batch_size,\n",
    "                         shuffle=True)\n",
    "valid_loader = DataLoader(dataset=test_dataset, \n",
    "                         batch_size=batch_size,\n",
    "                         shuffle=True)\n",
    "test_loader = DataLoader(dataset=test_dataset, \n",
    "                         batch_size=batch_size,\n",
    "                         shuffle=False)"
   ]
  },
  {
   "cell_type": "markdown",
   "metadata": {},
   "source": [
    "## 2-1.Logsitic Regression Model"
   ]
  },
  {
   "cell_type": "code",
   "execution_count": null,
   "metadata": {},
   "outputs": [],
   "source": [
    "from torch import nn\n",
    "import torch.nn.functional as F\n",
    "\n",
    "# Logistic model using Parameter\n",
    "'''\n",
    "class Mnist_Logistic(nn.Module):\n",
    "    def __init__(self):\n",
    "        super().__init__()\n",
    "        self.weights = nn.Parameter(torch.randn(784, 10) / math.sqrt(784))\n",
    "        self.bias = nn.Parameter(torch.zeros(10))\n",
    "\n",
    "    def forward(self, xb):\n",
    "        return xb @ self.weights + self.bias\n",
    "'''\n",
    "# Logistic model using Linear\n",
    "class Mnist_Logistic(nn.Module):\n",
    "    def __init__(self):\n",
    "        super().__init__()\n",
    "        self.lin = nn.Linear(784, 10)\n",
    "\n",
    "    def forward(self, xb):\n",
    "        return self.lin(xb)\n",
    "    \n",
    "#     def forward(self, xb):\n",
    "#         x = self.lin(xb)\n",
    "#         return F.log_softmax(x,dim=1)"
   ]
  },
  {
   "cell_type": "markdown",
   "metadata": {},
   "source": [
    "## 2-2. CNN Model"
   ]
  },
  {
   "cell_type": "code",
   "execution_count": 11,
   "metadata": {},
   "outputs": [],
   "source": [
    "import torch.nn as nn\n",
    "import torch.nn.functional as F\n",
    "\n",
    "class Net(nn.Module):\n",
    "    def __init__(self):\n",
    "        super(Net, self).__init__()\n",
    "        self.conv1 = nn.Conv2d(1, 10, kernel_size=5)\n",
    "        self.conv2 = nn.Conv2d(10, 20, kernel_size=5)\n",
    "        self.conv2_drop = nn.Dropout2d()\n",
    "        self.fc1 = nn.Linear(320, 50)\n",
    "        self.fc2 = nn.Linear(50, 10)\n",
    "\n",
    "    def forward(self, x):\n",
    "        x = F.relu(F.max_pool2d(self.conv1(x), 2))\n",
    "        x = F.relu(F.max_pool2d(self.conv2_drop(self.conv2(x)), 2))\n",
    "        x = x.view(-1, 320)\n",
    "        x = F.relu(self.fc1(x))\n",
    "        x = F.dropout(x, training=self.training)\n",
    "        x = self.fc2(x)\n",
    "        return F.log_softmax(x,dim=1)"
   ]
  },
  {
   "cell_type": "markdown",
   "metadata": {},
   "source": [
    "## 3-1. define loss function and output function"
   ]
  },
  {
   "cell_type": "code",
   "execution_count": null,
   "metadata": {},
   "outputs": [],
   "source": [
    "import torch.nn.functional as F\n",
    "\n",
    "loss_func = F.cross_entropy"
   ]
  },
  {
   "cell_type": "markdown",
   "metadata": {},
   "source": [
    "## 3-2. define loss function and output function"
   ]
  },
  {
   "cell_type": "code",
   "execution_count": 12,
   "metadata": {},
   "outputs": [],
   "source": [
    "import torch.nn.functional as F\n",
    "\n",
    "loss_func = F.nll_loss"
   ]
  },
  {
   "cell_type": "markdown",
   "metadata": {},
   "source": [
    "## 4. Define Optimizer and Make Function to get Model and Optimizer"
   ]
  },
  {
   "cell_type": "code",
   "execution_count": 13,
   "metadata": {},
   "outputs": [],
   "source": [
    "from torch import optim\n",
    "\n",
    "def get_model(type):\n",
    "    if type == 1:\n",
    "        model = Mnist_Logistic()\n",
    "    elif type == 2:\n",
    "        model = Net()\n",
    "    else:\n",
    "        model = Net()\n",
    "    optimizer = optim.SGD(model.parameters(), lr=lr)\n",
    "    return model, optimizer"
   ]
  },
  {
   "cell_type": "markdown",
   "metadata": {},
   "source": [
    "## 5. loss function and batch"
   ]
  },
  {
   "cell_type": "code",
   "execution_count": 14,
   "metadata": {},
   "outputs": [],
   "source": [
    "def loss_batch(model, loss_func, xb, yb, opt=None):\n",
    "    loss = loss_func(model(xb), yb)\n",
    "\n",
    "    if opt is not None:\n",
    "        loss.backward()\n",
    "        opt.step()\n",
    "        opt.zero_grad()\n",
    "\n",
    "    return loss.item(), len(xb)"
   ]
  },
  {
   "cell_type": "markdown",
   "metadata": {},
   "source": [
    "## 6. hyperparameters settings"
   ]
  },
  {
   "cell_type": "code",
   "execution_count": 15,
   "metadata": {},
   "outputs": [],
   "source": [
    "bs = 64  # batch size\n",
    "lr = 0.1  # learning rate\n",
    "epochs = 5  # how many epochs to train for\n",
    "log_interval = 50 # log inverval to write"
   ]
  },
  {
   "cell_type": "markdown",
   "metadata": {},
   "source": [
    "# 7. `fit` method"
   ]
  },
  {
   "cell_type": "code",
   "execution_count": null,
   "metadata": {},
   "outputs": [],
   "source": [
    "import numpy as np\n",
    "\n",
    "def fit(epochs, model, loss_func, opt, train_dl, valid_dl):\n",
    "    for epoch in range(epochs):\n",
    "        model.train()\n",
    "        for xb, yb in train_dl:\n",
    "            loss_batch(model, loss_func, xb, yb, opt)\n",
    "\n",
    "        model.eval()\n",
    "        with torch.no_grad():\n",
    "            losses, nums = zip(\n",
    "                *[loss_batch(model, loss_func, xb, yb) for xb, yb in valid_dl]\n",
    "            )\n",
    "        val_loss = np.sum(np.multiply(losses, nums)) / np.sum(nums)\n",
    "\n",
    "        print(epoch, val_loss)"
   ]
  },
  {
   "cell_type": "markdown",
   "metadata": {},
   "source": [
    "## 7-2. fit method"
   ]
  },
  {
   "cell_type": "code",
   "execution_count": 16,
   "metadata": {},
   "outputs": [],
   "source": [
    "import torch\n",
    "\n",
    "def accuracy(out, yb):\n",
    "    preds = torch.argmax(out, dim=1)\n",
    "    return (preds == yb).float().mean()\n",
    "\n",
    "def fit(epochs, model, loss_func, optimizer, train_loader, valid_loader):\n",
    "    losses = []\n",
    "    nums = []\n",
    "    accs = []\n",
    "    for epoch in range(epochs):\n",
    "        model.train()\n",
    "        for batch_idx, (data, target) in enumerate(train_loader):\n",
    "            optimizer.zero_grad()\n",
    "            output = model(data)\n",
    "            loss = loss_func(output, target)\n",
    "            acc = accuracy(output,target)\n",
    "            loss.backward()\n",
    "            optimizer.step()\n",
    "            if batch_idx % log_interval == 0:\n",
    "                print('Train Epoch: {} [{}/{} ({:.0f}%)]\\tLoss: {:.6f}\\tAccuracy: {}'.format(\n",
    "                epoch+1, batch_idx * len(data), len(train_loader.dataset),\n",
    "                100. * batch_idx / len(train_loader), loss.item(), acc*100))\n",
    "        model.eval()\n",
    "        with torch.no_grad():\n",
    "            for batch_idx, (data, target) in enumerate(valid_loader):\n",
    "                output = model(data)\n",
    "                loss = loss_func(output, target)\n",
    "                acc = accuracy(output,target)\n",
    "                losses.append(loss)\n",
    "                accs.append(acc)\n",
    "                nums.append(len(data))\n",
    "        val_loss = np.sum(np.multiply(losses, nums)) / np.sum(nums)\n",
    "        val_acc = np.sum(np.multiply(accs, nums)) / np.sum(nums)\n",
    "        print('Valid Epoch: {} \\tLoss: {:.6f}\\tAccuracy: {}'.format(epoch+1, val_loss, val_acc*100.))"
   ]
  },
  {
   "cell_type": "markdown",
   "metadata": {},
   "source": [
    "## 8-1. getting data and model fitting"
   ]
  },
  {
   "cell_type": "code",
   "execution_count": null,
   "metadata": {},
   "outputs": [],
   "source": [
    "loss_func = F.cross_entropy\n",
    "train_dl, valid_dl = get_data(train_ds, valid_ds, bs)\n",
    "model, opt = get_model(1)\n",
    "fit(epochs, model, loss_func, opt, train_dl, valid_dl)"
   ]
  },
  {
   "cell_type": "markdown",
   "metadata": {},
   "source": [
    "## 8-2. getting data and model fitting"
   ]
  },
  {
   "cell_type": "code",
   "execution_count": 17,
   "metadata": {},
   "outputs": [
    {
     "name": "stdout",
     "output_type": "stream",
     "text": [
      "Train Epoch: 1 [0/60000 (0%)]\tLoss: 2.295348\tAccuracy: 18.75\n",
      "Train Epoch: 1 [3200/60000 (5%)]\tLoss: 1.256175\tAccuracy: 54.6875\n",
      "Train Epoch: 1 [6400/60000 (11%)]\tLoss: 0.769830\tAccuracy: 68.75\n",
      "Train Epoch: 1 [9600/60000 (16%)]\tLoss: 0.629941\tAccuracy: 78.125\n",
      "Train Epoch: 1 [12800/60000 (21%)]\tLoss: 0.674225\tAccuracy: 76.5625\n",
      "Train Epoch: 1 [16000/60000 (27%)]\tLoss: 0.627792\tAccuracy: 78.125\n",
      "Train Epoch: 1 [19200/60000 (32%)]\tLoss: 0.445744\tAccuracy: 89.0625\n",
      "Train Epoch: 1 [22400/60000 (37%)]\tLoss: 0.414148\tAccuracy: 89.0625\n",
      "Train Epoch: 1 [25600/60000 (43%)]\tLoss: 0.276180\tAccuracy: 90.625\n",
      "Train Epoch: 1 [28800/60000 (48%)]\tLoss: 0.291784\tAccuracy: 89.0625\n",
      "Train Epoch: 1 [32000/60000 (53%)]\tLoss: 0.723984\tAccuracy: 81.25\n",
      "Train Epoch: 1 [35200/60000 (59%)]\tLoss: 0.292493\tAccuracy: 92.1875\n",
      "Train Epoch: 1 [38400/60000 (64%)]\tLoss: 0.187739\tAccuracy: 93.75\n",
      "Train Epoch: 1 [41600/60000 (69%)]\tLoss: 0.281737\tAccuracy: 90.625\n",
      "Train Epoch: 1 [44800/60000 (75%)]\tLoss: 0.372228\tAccuracy: 92.1875\n",
      "Train Epoch: 1 [48000/60000 (80%)]\tLoss: 0.429604\tAccuracy: 84.375\n",
      "Train Epoch: 1 [51200/60000 (85%)]\tLoss: 0.263932\tAccuracy: 92.1875\n",
      "Train Epoch: 1 [54400/60000 (91%)]\tLoss: 0.412142\tAccuracy: 90.625\n",
      "Train Epoch: 1 [57600/60000 (96%)]\tLoss: 0.354703\tAccuracy: 87.5\n",
      "Valid Epoch: 1 \tLoss: 0.131693\tAccuracy: 96.03\n",
      "Train Epoch: 2 [0/60000 (0%)]\tLoss: 0.589176\tAccuracy: 82.8125\n",
      "Train Epoch: 2 [3200/60000 (5%)]\tLoss: 0.195852\tAccuracy: 90.625\n",
      "Train Epoch: 2 [6400/60000 (11%)]\tLoss: 0.185152\tAccuracy: 95.3125\n",
      "Train Epoch: 2 [9600/60000 (16%)]\tLoss: 0.244072\tAccuracy: 89.0625\n",
      "Train Epoch: 2 [12800/60000 (21%)]\tLoss: 0.256385\tAccuracy: 89.0625\n",
      "Train Epoch: 2 [16000/60000 (27%)]\tLoss: 0.425391\tAccuracy: 87.5\n",
      "Train Epoch: 2 [19200/60000 (32%)]\tLoss: 0.435444\tAccuracy: 89.0625\n",
      "Train Epoch: 2 [22400/60000 (37%)]\tLoss: 0.290474\tAccuracy: 93.75\n",
      "Train Epoch: 2 [25600/60000 (43%)]\tLoss: 0.200648\tAccuracy: 95.3125\n",
      "Train Epoch: 2 [28800/60000 (48%)]\tLoss: 0.183156\tAccuracy: 92.1875\n",
      "Train Epoch: 2 [32000/60000 (53%)]\tLoss: 0.190705\tAccuracy: 92.1875\n",
      "Train Epoch: 2 [35200/60000 (59%)]\tLoss: 0.213607\tAccuracy: 92.1875\n",
      "Train Epoch: 2 [38400/60000 (64%)]\tLoss: 0.152940\tAccuracy: 93.75\n",
      "Train Epoch: 2 [41600/60000 (69%)]\tLoss: 0.083336\tAccuracy: 98.4375\n",
      "Train Epoch: 2 [44800/60000 (75%)]\tLoss: 0.125136\tAccuracy: 96.875\n",
      "Train Epoch: 2 [48000/60000 (80%)]\tLoss: 0.311222\tAccuracy: 92.1875\n",
      "Train Epoch: 2 [51200/60000 (85%)]\tLoss: 0.182374\tAccuracy: 93.75\n",
      "Train Epoch: 2 [54400/60000 (91%)]\tLoss: 0.278465\tAccuracy: 92.1875\n",
      "Train Epoch: 2 [57600/60000 (96%)]\tLoss: 0.219342\tAccuracy: 95.3125\n",
      "Valid Epoch: 2 \tLoss: 0.104794\tAccuracy: 96.78\n",
      "Train Epoch: 3 [0/60000 (0%)]\tLoss: 0.397418\tAccuracy: 90.625\n",
      "Train Epoch: 3 [3200/60000 (5%)]\tLoss: 0.471845\tAccuracy: 87.5\n",
      "Train Epoch: 3 [6400/60000 (11%)]\tLoss: 0.205455\tAccuracy: 92.1875\n",
      "Train Epoch: 3 [9600/60000 (16%)]\tLoss: 0.178780\tAccuracy: 95.3125\n",
      "Train Epoch: 3 [12800/60000 (21%)]\tLoss: 0.092589\tAccuracy: 95.3125\n",
      "Train Epoch: 3 [16000/60000 (27%)]\tLoss: 0.327393\tAccuracy: 92.1875\n",
      "Train Epoch: 3 [19200/60000 (32%)]\tLoss: 0.246452\tAccuracy: 87.5\n",
      "Train Epoch: 3 [22400/60000 (37%)]\tLoss: 0.282670\tAccuracy: 95.3125\n",
      "Train Epoch: 3 [25600/60000 (43%)]\tLoss: 0.182550\tAccuracy: 96.875\n",
      "Train Epoch: 3 [28800/60000 (48%)]\tLoss: 0.217530\tAccuracy: 92.1875\n",
      "Train Epoch: 3 [32000/60000 (53%)]\tLoss: 0.110065\tAccuracy: 96.875\n",
      "Train Epoch: 3 [35200/60000 (59%)]\tLoss: 0.204840\tAccuracy: 95.3125\n",
      "Train Epoch: 3 [38400/60000 (64%)]\tLoss: 0.092677\tAccuracy: 96.875\n",
      "Train Epoch: 3 [41600/60000 (69%)]\tLoss: 0.440950\tAccuracy: 87.5\n",
      "Train Epoch: 3 [44800/60000 (75%)]\tLoss: 0.184778\tAccuracy: 90.625\n",
      "Train Epoch: 3 [48000/60000 (80%)]\tLoss: 0.114691\tAccuracy: 96.875\n",
      "Train Epoch: 3 [51200/60000 (85%)]\tLoss: 0.324689\tAccuracy: 92.1875\n",
      "Train Epoch: 3 [54400/60000 (91%)]\tLoss: 0.113494\tAccuracy: 98.4375\n",
      "Train Epoch: 3 [57600/60000 (96%)]\tLoss: 0.185412\tAccuracy: 93.75\n",
      "Valid Epoch: 3 \tLoss: 0.093868\tAccuracy: 97.06\n",
      "Train Epoch: 4 [0/60000 (0%)]\tLoss: 0.188974\tAccuracy: 95.3125\n",
      "Train Epoch: 4 [3200/60000 (5%)]\tLoss: 0.090784\tAccuracy: 96.875\n",
      "Train Epoch: 4 [6400/60000 (11%)]\tLoss: 0.184572\tAccuracy: 92.1875\n",
      "Train Epoch: 4 [9600/60000 (16%)]\tLoss: 0.075752\tAccuracy: 98.4375\n",
      "Train Epoch: 4 [12800/60000 (21%)]\tLoss: 0.076149\tAccuracy: 98.4375\n",
      "Train Epoch: 4 [16000/60000 (27%)]\tLoss: 0.181525\tAccuracy: 95.3125\n",
      "Train Epoch: 4 [19200/60000 (32%)]\tLoss: 0.112335\tAccuracy: 95.3125\n",
      "Train Epoch: 4 [22400/60000 (37%)]\tLoss: 0.143309\tAccuracy: 95.3125\n",
      "Train Epoch: 4 [25600/60000 (43%)]\tLoss: 0.128924\tAccuracy: 95.3125\n",
      "Train Epoch: 4 [28800/60000 (48%)]\tLoss: 0.119920\tAccuracy: 92.1875\n",
      "Train Epoch: 4 [32000/60000 (53%)]\tLoss: 0.152251\tAccuracy: 95.3125\n",
      "Train Epoch: 4 [35200/60000 (59%)]\tLoss: 0.184329\tAccuracy: 96.875\n",
      "Train Epoch: 4 [38400/60000 (64%)]\tLoss: 0.104535\tAccuracy: 95.3125\n",
      "Train Epoch: 4 [41600/60000 (69%)]\tLoss: 0.072142\tAccuracy: 100.0\n",
      "Train Epoch: 4 [44800/60000 (75%)]\tLoss: 0.138923\tAccuracy: 93.75\n",
      "Train Epoch: 4 [48000/60000 (80%)]\tLoss: 0.196199\tAccuracy: 95.3125\n",
      "Train Epoch: 4 [51200/60000 (85%)]\tLoss: 0.068090\tAccuracy: 96.875\n",
      "Train Epoch: 4 [54400/60000 (91%)]\tLoss: 0.391598\tAccuracy: 93.75\n",
      "Train Epoch: 4 [57600/60000 (96%)]\tLoss: 0.088476\tAccuracy: 95.3125\n",
      "Valid Epoch: 4 \tLoss: 0.085754\tAccuracy: 97.295\n",
      "Train Epoch: 5 [0/60000 (0%)]\tLoss: 0.196947\tAccuracy: 93.75\n",
      "Train Epoch: 5 [3200/60000 (5%)]\tLoss: 0.123794\tAccuracy: 96.875\n",
      "Train Epoch: 5 [6400/60000 (11%)]\tLoss: 0.230322\tAccuracy: 90.625\n",
      "Train Epoch: 5 [9600/60000 (16%)]\tLoss: 0.366589\tAccuracy: 85.9375\n",
      "Train Epoch: 5 [12800/60000 (21%)]\tLoss: 0.347293\tAccuracy: 92.1875\n",
      "Train Epoch: 5 [16000/60000 (27%)]\tLoss: 0.281192\tAccuracy: 93.75\n",
      "Train Epoch: 5 [19200/60000 (32%)]\tLoss: 0.139674\tAccuracy: 93.75\n",
      "Train Epoch: 5 [22400/60000 (37%)]\tLoss: 0.140188\tAccuracy: 96.875\n",
      "Train Epoch: 5 [25600/60000 (43%)]\tLoss: 0.055495\tAccuracy: 96.875\n",
      "Train Epoch: 5 [28800/60000 (48%)]\tLoss: 0.107882\tAccuracy: 98.4375\n",
      "Train Epoch: 5 [32000/60000 (53%)]\tLoss: 0.193152\tAccuracy: 93.75\n",
      "Train Epoch: 5 [35200/60000 (59%)]\tLoss: 0.251580\tAccuracy: 92.1875\n",
      "Train Epoch: 5 [38400/60000 (64%)]\tLoss: 0.059647\tAccuracy: 98.4375\n",
      "Train Epoch: 5 [41600/60000 (69%)]\tLoss: 0.310202\tAccuracy: 92.1875\n",
      "Train Epoch: 5 [44800/60000 (75%)]\tLoss: 0.101691\tAccuracy: 95.3125\n",
      "Train Epoch: 5 [48000/60000 (80%)]\tLoss: 0.127175\tAccuracy: 93.75\n",
      "Train Epoch: 5 [51200/60000 (85%)]\tLoss: 0.135239\tAccuracy: 96.875\n",
      "Train Epoch: 5 [54400/60000 (91%)]\tLoss: 0.095608\tAccuracy: 95.3125\n",
      "Train Epoch: 5 [57600/60000 (96%)]\tLoss: 0.092639\tAccuracy: 96.875\n",
      "Valid Epoch: 5 \tLoss: 0.078163\tAccuracy: 97.532\n"
     ]
    }
   ],
   "source": [
    "loss_func = F.nll_loss\n",
    "model, opt = get_model(2)\n",
    "fit(epochs, model, loss_func, opt, train_loader, valid_loader)"
   ]
  },
  {
   "cell_type": "code",
   "execution_count": null,
   "metadata": {},
   "outputs": [],
   "source": [
    "loss_func = F.nll_loss\n",
    "model, opt = get_model(2)\n",
    "# Substitute model\n",
    "PATH = './mnist_init_net.pt'\n",
    "model = Net()\n",
    "model.load_state_dict(torch.load(PATH))\n",
    "fit(epochs, model, loss_func, opt, train_loader, valid_loader)"
   ]
  },
  {
   "cell_type": "code",
   "execution_count": 27,
   "metadata": {},
   "outputs": [
    {
     "name": "stdout",
     "output_type": "stream",
     "text": [
      "Train Epoch: 1 [0/60000 (0%)]\tLoss: 2.340531\tAccuracy: 12.5\n",
      "Train Epoch: 1 [3200/60000 (5%)]\tLoss: 2.297997\tAccuracy: 17.1875\n",
      "Train Epoch: 1 [6400/60000 (11%)]\tLoss: 2.256374\tAccuracy: 26.5625\n",
      "Train Epoch: 1 [9600/60000 (16%)]\tLoss: 2.270495\tAccuracy: 15.625\n",
      "Train Epoch: 1 [12800/60000 (21%)]\tLoss: 2.197659\tAccuracy: 28.125\n",
      "Train Epoch: 1 [16000/60000 (27%)]\tLoss: 2.091682\tAccuracy: 34.375\n",
      "Train Epoch: 1 [19200/60000 (32%)]\tLoss: 1.886091\tAccuracy: 23.4375\n"
     ]
    },
    {
     "ename": "KeyboardInterrupt",
     "evalue": "",
     "output_type": "error",
     "traceback": [
      "\u001b[0;31m---------------------------------------------------------------------------\u001b[0m",
      "\u001b[0;31mKeyboardInterrupt\u001b[0m                         Traceback (most recent call last)",
      "\u001b[0;32m<ipython-input-27-761e2d367e67>\u001b[0m in \u001b[0;36m<module>\u001b[0;34m\u001b[0m\n\u001b[1;32m      6\u001b[0m \u001b[0mmodel\u001b[0m\u001b[0;34m.\u001b[0m\u001b[0mload_state_dict\u001b[0m\u001b[0;34m(\u001b[0m\u001b[0mcheckpoint\u001b[0m\u001b[0;34m[\u001b[0m\u001b[0;34m'model_state_dict'\u001b[0m\u001b[0;34m]\u001b[0m\u001b[0;34m)\u001b[0m\u001b[0;34m\u001b[0m\u001b[0;34m\u001b[0m\u001b[0m\n\u001b[1;32m      7\u001b[0m \u001b[0mopt\u001b[0m\u001b[0;34m.\u001b[0m\u001b[0mload_state_dict\u001b[0m\u001b[0;34m(\u001b[0m\u001b[0mcheckpoint\u001b[0m\u001b[0;34m[\u001b[0m\u001b[0;34m'optimizer_state_dict'\u001b[0m\u001b[0;34m]\u001b[0m\u001b[0;34m)\u001b[0m\u001b[0;34m\u001b[0m\u001b[0;34m\u001b[0m\u001b[0m\n\u001b[0;32m----> 8\u001b[0;31m \u001b[0mfit\u001b[0m\u001b[0;34m(\u001b[0m\u001b[0mepochs\u001b[0m\u001b[0;34m,\u001b[0m \u001b[0mmodel\u001b[0m\u001b[0;34m,\u001b[0m \u001b[0mloss_func\u001b[0m\u001b[0;34m,\u001b[0m \u001b[0mopt\u001b[0m\u001b[0;34m,\u001b[0m \u001b[0mtrain_loader\u001b[0m\u001b[0;34m,\u001b[0m \u001b[0mvalid_loader\u001b[0m\u001b[0;34m)\u001b[0m\u001b[0;34m\u001b[0m\u001b[0;34m\u001b[0m\u001b[0m\n\u001b[0m",
      "\u001b[0;32m<ipython-input-18-5e4525e194c1>\u001b[0m in \u001b[0;36mfit\u001b[0;34m(epochs, model, loss_func, optimizer, train_loader, valid_loader)\u001b[0m\n\u001b[1;32m     16\u001b[0m             \u001b[0mloss\u001b[0m \u001b[0;34m=\u001b[0m \u001b[0mloss_func\u001b[0m\u001b[0;34m(\u001b[0m\u001b[0moutput\u001b[0m\u001b[0;34m,\u001b[0m \u001b[0mtarget\u001b[0m\u001b[0;34m)\u001b[0m\u001b[0;34m\u001b[0m\u001b[0;34m\u001b[0m\u001b[0m\n\u001b[1;32m     17\u001b[0m             \u001b[0macc\u001b[0m \u001b[0;34m=\u001b[0m \u001b[0maccuracy\u001b[0m\u001b[0;34m(\u001b[0m\u001b[0moutput\u001b[0m\u001b[0;34m,\u001b[0m\u001b[0mtarget\u001b[0m\u001b[0;34m)\u001b[0m\u001b[0;34m\u001b[0m\u001b[0;34m\u001b[0m\u001b[0m\n\u001b[0;32m---> 18\u001b[0;31m             \u001b[0mloss\u001b[0m\u001b[0;34m.\u001b[0m\u001b[0mbackward\u001b[0m\u001b[0;34m(\u001b[0m\u001b[0;34m)\u001b[0m\u001b[0;34m\u001b[0m\u001b[0;34m\u001b[0m\u001b[0m\n\u001b[0m\u001b[1;32m     19\u001b[0m             \u001b[0moptimizer\u001b[0m\u001b[0;34m.\u001b[0m\u001b[0mstep\u001b[0m\u001b[0;34m(\u001b[0m\u001b[0;34m)\u001b[0m\u001b[0;34m\u001b[0m\u001b[0;34m\u001b[0m\u001b[0m\n\u001b[1;32m     20\u001b[0m             \u001b[0;32mif\u001b[0m \u001b[0mbatch_idx\u001b[0m \u001b[0;34m%\u001b[0m \u001b[0mlog_interval\u001b[0m \u001b[0;34m==\u001b[0m \u001b[0;36m0\u001b[0m\u001b[0;34m:\u001b[0m\u001b[0;34m\u001b[0m\u001b[0;34m\u001b[0m\u001b[0m\n",
      "\u001b[0;32m~/anaconda3/envs/ai/lib/python3.7/site-packages/torch/tensor.py\u001b[0m in \u001b[0;36mbackward\u001b[0;34m(self, gradient, retain_graph, create_graph)\u001b[0m\n\u001b[1;32m    196\u001b[0m                 \u001b[0mproducts\u001b[0m\u001b[0;34m.\u001b[0m \u001b[0mDefaults\u001b[0m \u001b[0mto\u001b[0m\u001b[0;31m \u001b[0m\u001b[0;31m`\u001b[0m\u001b[0;31m`\u001b[0m\u001b[0;32mFalse\u001b[0m\u001b[0;31m`\u001b[0m\u001b[0;31m`\u001b[0m\u001b[0;34m.\u001b[0m\u001b[0;34m\u001b[0m\u001b[0;34m\u001b[0m\u001b[0m\n\u001b[1;32m    197\u001b[0m         \"\"\"\n\u001b[0;32m--> 198\u001b[0;31m         \u001b[0mtorch\u001b[0m\u001b[0;34m.\u001b[0m\u001b[0mautograd\u001b[0m\u001b[0;34m.\u001b[0m\u001b[0mbackward\u001b[0m\u001b[0;34m(\u001b[0m\u001b[0mself\u001b[0m\u001b[0;34m,\u001b[0m \u001b[0mgradient\u001b[0m\u001b[0;34m,\u001b[0m \u001b[0mretain_graph\u001b[0m\u001b[0;34m,\u001b[0m \u001b[0mcreate_graph\u001b[0m\u001b[0;34m)\u001b[0m\u001b[0;34m\u001b[0m\u001b[0;34m\u001b[0m\u001b[0m\n\u001b[0m\u001b[1;32m    199\u001b[0m \u001b[0;34m\u001b[0m\u001b[0m\n\u001b[1;32m    200\u001b[0m     \u001b[0;32mdef\u001b[0m \u001b[0mregister_hook\u001b[0m\u001b[0;34m(\u001b[0m\u001b[0mself\u001b[0m\u001b[0;34m,\u001b[0m \u001b[0mhook\u001b[0m\u001b[0;34m)\u001b[0m\u001b[0;34m:\u001b[0m\u001b[0;34m\u001b[0m\u001b[0;34m\u001b[0m\u001b[0m\n",
      "\u001b[0;32m~/anaconda3/envs/ai/lib/python3.7/site-packages/torch/autograd/__init__.py\u001b[0m in \u001b[0;36mbackward\u001b[0;34m(tensors, grad_tensors, retain_graph, create_graph, grad_variables)\u001b[0m\n\u001b[1;32m     98\u001b[0m     Variable._execution_engine.run_backward(\n\u001b[1;32m     99\u001b[0m         \u001b[0mtensors\u001b[0m\u001b[0;34m,\u001b[0m \u001b[0mgrad_tensors\u001b[0m\u001b[0;34m,\u001b[0m \u001b[0mretain_graph\u001b[0m\u001b[0;34m,\u001b[0m \u001b[0mcreate_graph\u001b[0m\u001b[0;34m,\u001b[0m\u001b[0;34m\u001b[0m\u001b[0;34m\u001b[0m\u001b[0m\n\u001b[0;32m--> 100\u001b[0;31m         allow_unreachable=True)  # allow_unreachable flag\n\u001b[0m\u001b[1;32m    101\u001b[0m \u001b[0;34m\u001b[0m\u001b[0m\n\u001b[1;32m    102\u001b[0m \u001b[0;34m\u001b[0m\u001b[0m\n",
      "\u001b[0;31mKeyboardInterrupt\u001b[0m: "
     ]
    }
   ],
   "source": [
    "loss_func = F.nll_loss\n",
    "model, opt = get_model(2)\n",
    "# Substitute model\n",
    "PATH = './mnist_init_net_checkpoint.pt'\n",
    "checkpoint = torch.load(PATH)\n",
    "model.load_state_dict(checkpoint['model_state_dict'])\n",
    "opt.load_state_dict(checkpoint['optimizer_state_dict'])\n",
    "fit(epochs, model, loss_func, opt, train_loader, valid_loader)"
   ]
  },
  {
   "cell_type": "markdown",
   "metadata": {},
   "source": [
    "## 9. Save Trained Model"
   ]
  },
  {
   "cell_type": "code",
   "execution_count": null,
   "metadata": {},
   "outputs": [],
   "source": [
    "PATH = './mnist_net.pth'\n",
    "torch.save(model.state_dict(), PATH)"
   ]
  },
  {
   "cell_type": "markdown",
   "metadata": {},
   "source": [
    "## 10. Save ONNX Model"
   ]
  },
  {
   "cell_type": "code",
   "execution_count": null,
   "metadata": {},
   "outputs": [],
   "source": [
    "x = torch.randn(batch_size, 1, 28, 28, requires_grad=True)\n",
    "\n",
    "torch.onnx.export(model,                                         # model being run\n",
    "                  x,                                             # model input (or a tuple for multiple inputs)\n",
    "                  \"mnist_net.onnx\",                              # where to save the model (can be a file or file-like object)\n",
    "                  export_params=True,                            # store the trained parameter weights inside the model file\n",
    "                  verbose=True, \n",
    "                  input_names = ['input'],                       # the model's input names\n",
    "                  output_names = ['output'],                     # the model's output names\n",
    "                  dynamic_axes={'input' : {0 : 'batch_size'},    # variable lenght axes\n",
    "                                'output' : {0 : 'batch_size'}})"
   ]
  },
  {
   "cell_type": "code",
   "execution_count": null,
   "metadata": {},
   "outputs": [],
   "source": [
    "import onnx\n",
    "\n",
    "# Load the ONNX model\n",
    "model_onnx = onnx.load(\"mnist_net.onnx\")"
   ]
  },
  {
   "cell_type": "code",
   "execution_count": null,
   "metadata": {},
   "outputs": [],
   "source": [
    "# Check that the IR is well formed\n",
    "onnx.checker.check_model(model_onnx)"
   ]
  },
  {
   "cell_type": "code",
   "execution_count": null,
   "metadata": {},
   "outputs": [],
   "source": [
    "# Print a human readable representation of the graph\n",
    "onnx.helper.printable_graph(model_onnx.graph)"
   ]
  },
  {
   "cell_type": "code",
   "execution_count": null,
   "metadata": {},
   "outputs": [],
   "source": [
    "x = []\n",
    "for idx, (xb, yb) in enumerate(test_loader):\n",
    "    if idx == 0:\n",
    "        x = xb\n",
    "        break\n",
    "\n",
    "torch_out = model(x)"
   ]
  },
  {
   "cell_type": "code",
   "execution_count": null,
   "metadata": {},
   "outputs": [],
   "source": [
    "import onnxruntime\n",
    "\n",
    "ort_session = onnxruntime.InferenceSession(\"mnist_net.onnx\")\n",
    "\n",
    "def to_numpy(tensor):\n",
    "    return tensor.detach().cpu().numpy() if tensor.requires_grad else tensor.cpu().numpy()\n",
    "\n",
    "# compute ONNX Runtime output prediction\n",
    "ort_inputs = {ort_session.get_inputs()[0].name: to_numpy(x)}\n",
    "ort_outs = ort_session.run(None, ort_inputs)\n",
    "\n",
    "# compare ONNX Runtime and PyTorch results\n",
    "np.testing.assert_allclose(to_numpy(torch_out), ort_outs[0], rtol=1e-03, atol=1e-05)\n",
    "\n",
    "print(\"Exported model has been tested with ONNXRuntime, and the result looks good!\")"
   ]
  },
  {
   "cell_type": "code",
   "execution_count": null,
   "metadata": {},
   "outputs": [],
   "source": [
    "def test(model, loss_func, optimizer, test_loader):\n",
    "    losses = []\n",
    "    nums = []\n",
    "    accs = []\n",
    "    model.eval()\n",
    "    with torch.no_grad():\n",
    "        for batch_idx, (data, target) in enumerate(test_loader):\n",
    "            ort_inputs = {ort_session.get_inputs()[0].name: to_numpy(data)}\n",
    "            ort_outs = ort_session.run(None, ort_inputs)\n",
    "            #output = model(data)\n",
    "            output = torch.Tensor(ort_outs[0])\n",
    "            loss = loss_func(output, target)\n",
    "            acc = accuracy(output,target)\n",
    "            losses.append(loss)\n",
    "            accs.append(acc)\n",
    "            nums.append(len(data))\n",
    "        val_loss = np.sum(np.multiply(losses, nums)) / np.sum(nums)\n",
    "        val_acc = np.sum(np.multiply(accs, nums)) / np.sum(nums)\n",
    "        print('Loss: {:.6f}\\tAccuracy: {}'.format(val_loss, val_acc*100.))"
   ]
  },
  {
   "cell_type": "code",
   "execution_count": null,
   "metadata": {},
   "outputs": [],
   "source": [
    "test(model, loss_func, optimizer, test_loader)"
   ]
  }
 ],
 "metadata": {
  "kernelspec": {
   "display_name": "Python 3",
   "language": "python",
   "name": "python3"
  },
  "language_info": {
   "codemirror_mode": {
    "name": "ipython",
    "version": 3
   },
   "file_extension": ".py",
   "mimetype": "text/x-python",
   "name": "python",
   "nbconvert_exporter": "python",
   "pygments_lexer": "ipython3",
   "version": "3.7.6"
  }
 },
 "nbformat": 4,
 "nbformat_minor": 4
}
